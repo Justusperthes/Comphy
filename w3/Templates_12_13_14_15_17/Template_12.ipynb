{
 "cells": [
  {
   "cell_type": "markdown",
   "id": "c90c154f",
   "metadata": {},
   "source": [
    "# 2D example (Exercise 12)"
   ]
  },
  {
   "cell_type": "code",
   "execution_count": null,
   "id": "467308ec",
   "metadata": {},
   "outputs": [],
   "source": [
    "import numpy as np\n",
    "import matplotlib.pyplot as plt\n",
    "plt.rc(\"xtick\", labelsize=12)\n",
    "plt.rc(\"ytick\", labelsize=12)\n",
    "plt.rc(\"axes\", titlesize=16)\n",
    "plt.rc(\"font\", size=12)\n",
    "from scipy.optimize import fmin\n",
    "\n",
    "from week_03_gennemgang import LennardJones, AtomicCluster      "
   ]
  },
  {
   "cell_type": "code",
   "execution_count": null,
   "id": "34c84fd2",
   "metadata": {},
   "outputs": [],
   "source": [
    "lennard_jones_calc = LennardJones()"
   ]
  },
  {
   "cell_type": "code",
   "execution_count": null,
   "id": "c7d584e9",
   "metadata": {},
   "outputs": [],
   "source": []
  },
  {
   "cell_type": "code",
   "execution_count": null,
   "id": "230aeee7",
   "metadata": {},
   "outputs": [],
   "source": [
    "cluster0 = AtomicCluster(lennard_jones_calc,\n",
    "                         pos=[[-1,0],[-1.5,1.5],[1,0]],\n",
    "                         static=[True, False, True])\n",
    "print(cluster0.get_positions())\n",
    "print(cluster0.energy)"
   ]
  },
  {
   "cell_type": "code",
   "execution_count": null,
   "id": "6c47125b",
   "metadata": {},
   "outputs": [],
   "source": [
    "cluster = cluster0.copy()\n",
    "print(cluster.energy)"
   ]
  },
  {
   "cell_type": "code",
   "execution_count": null,
   "id": "31538db0",
   "metadata": {},
   "outputs": [],
   "source": [
    "fig, axes = plt.subplots(1,2,figsize=(12,4))\n",
    "\n",
    "cluster = cluster0.copy()\n",
    "atom_index = 1\n",
    "\n",
    "xlims = ([-2, 2],[-0.5, 0.5])\n",
    "ylims = ([-1, 3],[-.25, .75])\n",
    "for ax,xlim,ylim in zip(axes,xlims,ylims):\n",
    "    xs = np.linspace(xlim[0],xlim[1], 100)\n",
    "    ys = np.linspace(ylim[0],ylim[1], 100)\n",
    "    xd, yd = np.meshgrid(xs, ys)\n",
    "    zd = np.zeros(xd.shape)\n",
    "\n",
    "\n",
    "    for i, j in np.ndindex(xd.shape):\n",
    "        cluster.pos[atom_index,0],cluster.pos[atom_index,1] = xd[i,j],yd[i,j]\n",
    "        zd[i,j] = cluster.energy\n",
    "\n",
    "    levels = np.arange(-16, 0.001, 0.25)\n",
    "    cmap = 'autumn'\n",
    "    ax.contour(xd, yd, zd, levels=levels, cmap=cmap)\n",
    "\n",
    "    color_map = ax.contourf(xd, yd, zd, levels=levels, alpha=0.5, cmap=cmap)\n",
    "\n",
    "    fig.colorbar(color_map, ax=ax)\n",
    "    ax.set_aspect('equal')\n",
    "    ax.set_xlim(xlim)\n",
    "    ax.set_ylim(ylim)\n"
   ]
  },
  {
   "cell_type": "code",
   "execution_count": null,
   "id": "35f714c3",
   "metadata": {},
   "outputs": [],
   "source": [
    "def monte_carlo_quench(cluster, N):\n",
    "    pass"
   ]
  },
  {
   "cell_type": "code",
   "execution_count": null,
   "id": "120fea8a",
   "metadata": {},
   "outputs": [],
   "source": [
    "cluster = cluster0.copy()\n",
    "index = 1\n",
    "xs = []\n",
    "ys = []\n",
    "pos = cluster.get_positions()\n",
    "xs.append(pos[index,0])\n",
    "ys.append(pos[index,1])\n",
    "\n",
    "for _ in range(100):\n",
    "    monte_carlo_quench(cluster,100)\n",
    "    pos = cluster.get_positions()\n",
    "    xs.append(pos[index,0])\n",
    "    ys.append(pos[index,1])\n",
    "    \n",
    "for ax in axes:\n",
    "    ax.plot(xs,ys,'-o')\n",
    "fig"
   ]
  },
  {
   "cell_type": "code",
   "execution_count": null,
   "id": "9e61769d",
   "metadata": {},
   "outputs": [],
   "source": [
    "fig, axes = plt.subplots(1,2,figsize=(12,4))\n",
    "cluster = cluster0.copy()\n",
    "\n",
    "cluster.draw(axes[0],2800)\n",
    "monte_carlo_quench(cluster,10000)\n",
    "cluster.draw(axes[1],2800)\n",
    "\n",
    "for ax in axes:\n",
    "    ax.xaxis.set_major_locator(plt.MultipleLocator(1.0))\n",
    "    ax.yaxis.set_major_locator(plt.MultipleLocator(1.0))\n",
    "    ax.set_aspect('equal')\n",
    "    lims = [-5,5]\n",
    "    ax.set_xlim([-2,2])\n",
    "    ax.set_ylim([-1,3])\n",
    "    ax.grid('on')\n"
   ]
  },
  {
   "cell_type": "code",
   "execution_count": null,
   "id": "e76ce504",
   "metadata": {},
   "outputs": [],
   "source": []
  }
 ],
 "metadata": {
  "kernelspec": {
   "display_name": "Python 3 (ipykernel)",
   "language": "python",
   "name": "python3"
  },
  "language_info": {
   "codemirror_mode": {
    "name": "ipython",
    "version": 3
   },
   "file_extension": ".py",
   "mimetype": "text/x-python",
   "name": "python",
   "nbconvert_exporter": "python",
   "pygments_lexer": "ipython3",
   "version": "3.9.7"
  }
 },
 "nbformat": 4,
 "nbformat_minor": 5
}
