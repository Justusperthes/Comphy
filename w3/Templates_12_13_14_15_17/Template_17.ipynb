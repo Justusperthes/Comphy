{
 "cells": [
  {
   "cell_type": "markdown",
   "id": "c90c154f",
   "metadata": {},
   "source": [
    "# Multi-D example, Basin Hopping (Exercise 17)"
   ]
  },
  {
   "cell_type": "code",
   "execution_count": null,
   "id": "467308ec",
   "metadata": {},
   "outputs": [],
   "source": [
    "import numpy as np\n",
    "import matplotlib.pyplot as plt\n",
    "plt.rc(\"xtick\", labelsize=12)\n",
    "plt.rc(\"ytick\", labelsize=12)\n",
    "plt.rc(\"axes\", titlesize=16)\n",
    "plt.rc(\"font\", size=12)\n",
    "from scipy.spatial.distance import pdist\n",
    "\n",
    "from week_03_gennemgang import LennardJones, AtomicCluster "
   ]
  },
  {
   "cell_type": "code",
   "execution_count": null,
   "id": "98e54c18",
   "metadata": {},
   "outputs": [],
   "source": [
    "lennard_jones_calc = LennardJones()"
   ]
  },
  {
   "cell_type": "code",
   "execution_count": null,
   "id": "1eb149d4",
   "metadata": {},
   "outputs": [],
   "source": [
    "from week_03_gennemgang import relax_for_basin_hopping"
   ]
  },
  {
   "cell_type": "code",
   "execution_count": null,
   "id": "0ef31cef",
   "metadata": {},
   "outputs": [],
   "source": [
    "def basin_hopping(cluster, N=10, kT=2, rattle_all=False):\n",
    "    pass"
   ]
  },
  {
   "cell_type": "code",
   "execution_count": null,
   "id": "db27dc0a",
   "metadata": {},
   "outputs": [],
   "source": [
    "fig, axes = plt.subplots(2,5,figsize=(25,10))\n",
    "\n",
    "cluster0 = AtomicCluster(lennard_jones_calc,\n",
    "                         N=6,\n",
    "                         static=[True, False, False, False, False, False],\n",
    "                            wrap=True)\n",
    "pos = cluster0.get_positions()\n",
    "pos[0,:] = 0\n",
    "cluster0.set_positions(pos)\n",
    "\n",
    "for i,(ax,N) in enumerate(zip(axes.ravel(),[0, 1, 1, 5, 20]*2)):\n",
    "    \n",
    "    # start over when first or half way\n",
    "    if i in [0, axes.shape[1]]:\n",
    "        cluster = cluster0.copy()\n",
    "        \n",
    "    rattle_all = i >= axes.shape[1]\n",
    "    basin_hopping(cluster,N,rattle_all=rattle_all)\n",
    "    cluster.draw(ax,800)\n",
    "\n",
    "    \n",
    "    ax.xaxis.set_major_locator(plt.MultipleLocator(1.0))\n",
    "    ax.yaxis.set_major_locator(plt.MultipleLocator(1.0))\n",
    "    ax.set_aspect('equal')\n",
    "    lims = [-4,4]\n",
    "    ax.set_xlim(lims)\n",
    "    ax.set_ylim(lims)\n",
    "    ax.grid('on')\n",
    "    "
   ]
  },
  {
   "cell_type": "code",
   "execution_count": null,
   "id": "bb4d5878",
   "metadata": {},
   "outputs": [],
   "source": []
  }
 ],
 "metadata": {
  "kernelspec": {
   "display_name": "Python 3 (ipykernel)",
   "language": "python",
   "name": "python3"
  },
  "language_info": {
   "codemirror_mode": {
    "name": "ipython",
    "version": 3
   },
   "file_extension": ".py",
   "mimetype": "text/x-python",
   "name": "python",
   "nbconvert_exporter": "python",
   "pygments_lexer": "ipython3",
   "version": "3.9.7"
  }
 },
 "nbformat": 4,
 "nbformat_minor": 5
}
