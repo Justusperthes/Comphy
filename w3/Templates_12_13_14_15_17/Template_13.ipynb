{
 "cells": [
  {
   "cell_type": "markdown",
   "id": "c90c154f",
   "metadata": {},
   "source": [
    "# Many-D example (Exercise 13)"
   ]
  },
  {
   "cell_type": "code",
   "execution_count": null,
   "id": "467308ec",
   "metadata": {},
   "outputs": [],
   "source": [
    "import numpy as np\n",
    "import matplotlib.pyplot as plt\n",
    "plt.rc(\"xtick\", labelsize=12)\n",
    "plt.rc(\"ytick\", labelsize=12)\n",
    "plt.rc(\"axes\", titlesize=16)\n",
    "plt.rc(\"font\", size=12)\n",
    "\n",
    "from week_03_gennemgang import LennardJones, AtomicCluster      "
   ]
  },
  {
   "cell_type": "code",
   "execution_count": null,
   "id": "34c84fd2",
   "metadata": {},
   "outputs": [],
   "source": [
    "lennard_jones_calc = LennardJones()"
   ]
  },
  {
   "cell_type": "code",
   "execution_count": null,
   "id": "35f714c3",
   "metadata": {},
   "outputs": [],
   "source": [
    "def monte_carlo_quench(cluster, N, rattle_all=False):\n",
    "    pass"
   ]
  },
  {
   "cell_type": "code",
   "execution_count": null,
   "id": "9e61769d",
   "metadata": {},
   "outputs": [],
   "source": [
    "fig, axes = plt.subplots(2,4,figsize=(24,12))\n",
    "xs = [-1.5]\n",
    "ys = [1.5]\n",
    "\n",
    "cluster0 = AtomicCluster(lennard_jones_calc,\n",
    "                         pos=[[-1,0],[xs[0],ys[0]],[1,0]],\n",
    "                         static=[True, False, False])\n",
    "\n",
    "for i,(ax,N) in enumerate(zip(axes.ravel(),[1, 10, 100, 1000]*2)):\n",
    "    cluster = cluster0.copy()\n",
    "    rattle_all = i >= 4\n",
    "    monte_carlo_quench(cluster,N,rattle_all=rattle_all)\n",
    "    cluster.draw(ax,2800)\n",
    "\n",
    "    \n",
    "    ax.xaxis.set_major_locator(plt.MultipleLocator(1.0))\n",
    "    ax.yaxis.set_major_locator(plt.MultipleLocator(1.0))\n",
    "    ax.set_aspect('equal')\n",
    "    ax.set_xlim([-2,2])\n",
    "    ax.set_ylim([-1,3])\n",
    "    ax.grid('on')\n",
    "    "
   ]
  },
  {
   "cell_type": "code",
   "execution_count": null,
   "id": "e76ce504",
   "metadata": {},
   "outputs": [],
   "source": [
    "fig, axes = plt.subplots(2,5,figsize=(25,10))\n",
    "\n",
    "cluster0 = AtomicCluster(lennard_jones_calc,\n",
    "                         N=6,\n",
    "                         static=[True, False, False, False, False, False],\n",
    "                            wrap=False)\n",
    "pos = cluster0.get_positions()\n",
    "pos[0,:] = 0\n",
    "cluster0.set_positions(pos)\n",
    "\n",
    "for i,(ax,N) in enumerate(zip(axes.ravel(),[1, 20, 100, 500, 2500]*2)):\n",
    "    cluster = cluster0.copy()\n",
    "    rattle_all = i >= axes.shape[1]\n",
    "    monte_carlo_quench(cluster,N,rattle_all=rattle_all)\n",
    "    cluster.draw(ax,800)\n",
    "\n",
    "    \n",
    "    ax.xaxis.set_major_locator(plt.MultipleLocator(1.0))\n",
    "    ax.yaxis.set_major_locator(plt.MultipleLocator(1.0))\n",
    "    ax.set_aspect('equal')\n",
    "    lims = [-4,4]\n",
    "    ax.set_xlim(lims)\n",
    "    ax.set_ylim(lims)\n",
    "    ax.grid('on')\n",
    "    "
   ]
  },
  {
   "cell_type": "code",
   "execution_count": null,
   "id": "302d5525",
   "metadata": {},
   "outputs": [],
   "source": []
  },
  {
   "cell_type": "code",
   "execution_count": null,
   "id": "f4f184e4",
   "metadata": {},
   "outputs": [],
   "source": []
  },
  {
   "cell_type": "code",
   "execution_count": null,
   "id": "7f8ed56b",
   "metadata": {},
   "outputs": [],
   "source": []
  }
 ],
 "metadata": {
  "kernelspec": {
   "display_name": "Python 3 (ipykernel)",
   "language": "python",
   "name": "python3"
  },
  "language_info": {
   "codemirror_mode": {
    "name": "ipython",
    "version": 3
   },
   "file_extension": ".py",
   "mimetype": "text/x-python",
   "name": "python",
   "nbconvert_exporter": "python",
   "pygments_lexer": "ipython3",
   "version": "3.9.7"
  }
 },
 "nbformat": 4,
 "nbformat_minor": 5
}
