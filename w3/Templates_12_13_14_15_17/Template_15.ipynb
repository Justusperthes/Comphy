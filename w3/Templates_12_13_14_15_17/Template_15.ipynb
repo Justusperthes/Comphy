{
 "cells": [
  {
   "cell_type": "markdown",
   "id": "c90c154f",
   "metadata": {},
   "source": [
    "# Multi-D example, relaxed (Exercise 15)"
   ]
  },
  {
   "cell_type": "code",
   "execution_count": null,
   "id": "467308ec",
   "metadata": {},
   "outputs": [],
   "source": [
    "import numpy as np\n",
    "import matplotlib.pyplot as plt\n",
    "plt.rc(\"xtick\", labelsize=12)\n",
    "plt.rc(\"ytick\", labelsize=12)\n",
    "plt.rc(\"axes\", titlesize=16)\n",
    "plt.rc(\"font\", size=12)\n",
    "from scipy.optimize import fmin\n",
    "\n",
    "from week_03_gennemgang import LennardJones, AtomicCluster      "
   ]
  },
  {
   "cell_type": "code",
   "execution_count": null,
   "id": "34c84fd2",
   "metadata": {},
   "outputs": [],
   "source": [
    "lennard_jones_calc = LennardJones()"
   ]
  },
  {
   "cell_type": "code",
   "execution_count": null,
   "id": "1eb149d4",
   "metadata": {},
   "outputs": [],
   "source": [
    "def relax(cluster,steps=100):\n",
    "    pass"
   ]
  },
  {
   "cell_type": "code",
   "execution_count": null,
   "id": "3c0732ab",
   "metadata": {},
   "outputs": [],
   "source": []
  },
  {
   "cell_type": "code",
   "execution_count": null,
   "id": "c9e63bd8",
   "metadata": {},
   "outputs": [],
   "source": []
  },
  {
   "cell_type": "code",
   "execution_count": null,
   "id": "55ae9437",
   "metadata": {},
   "outputs": [],
   "source": [
    "fig, axes = plt.subplots(1,5,figsize=(25,5))\n",
    "\n",
    "cluster0 = AtomicCluster(lennard_jones_calc,\n",
    "                         N=6,\n",
    "                         static=[True, False, False, False, False, False],\n",
    "                         wrap=False,\n",
    "                         box_half_width=3)\n",
    "pos = cluster0.get_positions()\n",
    "pos[0,:] = 0\n",
    "cluster0.set_positions(pos)\n",
    "\n",
    "cluster = cluster0.copy()\n",
    "for ax,N in zip(axes.ravel(),[0, 10, 100, 100, 1000]):\n",
    "    relax(cluster,N)\n",
    "    cluster.draw(ax,800)\n",
    "\n",
    "    \n",
    "    ax.xaxis.set_major_locator(plt.MultipleLocator(1.0))\n",
    "    ax.yaxis.set_major_locator(plt.MultipleLocator(1.0))\n",
    "    ax.set_aspect('equal')\n",
    "    lims = [-4,4]\n",
    "    ax.set_xlim(lims)\n",
    "    ax.set_ylim(lims)\n",
    "    ax.grid('on')\n",
    "    "
   ]
  },
  {
   "cell_type": "code",
   "execution_count": null,
   "id": "65d8ad14",
   "metadata": {},
   "outputs": [],
   "source": [
    "    "
   ]
  }
 ],
 "metadata": {
  "kernelspec": {
   "display_name": "Python 3 (ipykernel)",
   "language": "python",
   "name": "python3"
  },
  "language_info": {
   "codemirror_mode": {
    "name": "ipython",
    "version": 3
   },
   "file_extension": ".py",
   "mimetype": "text/x-python",
   "name": "python",
   "nbconvert_exporter": "python",
   "pygments_lexer": "ipython3",
   "version": "3.9.7"
  }
 },
 "nbformat": 4,
 "nbformat_minor": 5
}
