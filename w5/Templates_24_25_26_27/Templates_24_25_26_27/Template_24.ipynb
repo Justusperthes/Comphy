{
 "cells": [
  {
   "cell_type": "markdown",
   "id": "61aa852c",
   "metadata": {},
   "source": [
    "# 1-dimensional MD - harmonic well (Exercise 24)"
   ]
  },
  {
   "cell_type": "code",
   "execution_count": null,
   "id": "549bb76e",
   "metadata": {},
   "outputs": [],
   "source": [
    "import numpy as np\n",
    "import matplotlib.pyplot as plt\n",
    "plt.rc(\"xtick\", labelsize=12)\n",
    "plt.rc(\"ytick\", labelsize=12)\n",
    "plt.rc(\"axes\", titlesize=16)\n",
    "plt.rc(\"font\", size=12)\n",
    "from scipy.spatial.distance import pdist,squareform\n",
    "from scipy.optimize import fmin\n",
    "from matplotlib.colors import to_rgba\n",
    "from scipy.integrate import quad"
   ]
  },
  {
   "cell_type": "code",
   "execution_count": null,
   "id": "63c5547e",
   "metadata": {},
   "outputs": [],
   "source": [
    "class Spring():\n",
    "    def __init__(self,k=1,x0=0):\n",
    "        self.k = k\n",
    "        self.x0 = x0\n",
    "        \n",
    "    def potential_energy(self, x):\n",
    "        return 0.5 * self.k * (x - self.x0)**2\n",
    "    \n",
    "    def force(self, x):\n",
    "        return YOUR CODE\n"
   ]
  },
  {
   "cell_type": "code",
   "execution_count": null,
   "id": "428474ab",
   "metadata": {},
   "outputs": [],
   "source": [
    "from week5 import SimulationSystem"
   ]
  },
  {
   "cell_type": "code",
   "execution_count": null,
   "id": "da296232",
   "metadata": {},
   "outputs": [],
   "source": [
    "class MonteCarloSystem(SimulationSystem):\n",
    "        \n",
    "    def __init__(self, *args, transition_method='delta', sample_size=1000, delta=0.1, **kwargs):\n",
    "        super().__init__(*args, **kwargs)\n",
    "        assert transition_method in ['delta','uniform'], 'Unknown transition method'\n",
    "        self.transition_method = transition_method\n",
    "        self.delta = delta\n",
    "    \n",
    "    def direct_integration(self, property=None):\n",
    "        if property is None:\n",
    "            property = self.calc.potential_energy\n",
    "        numerator_inner = lambda x: property(x) * np.exp(-self.calc.potential_energy(x) / self.kT)\n",
    "        denominator_inner = lambda x: np.exp(-self.calc.potential_energy(x) / self.kT)\n",
    "        numerator = quad(numerator_inner, self.xmin, self.xmax)[0] \n",
    "        denominator = quad(denominator_inner, self.xmin, self.xmax)[0] \n",
    "        return numerator / denominator\n",
    "    \n",
    "    def estimate_from_sample(self, property=None):\n",
    "        if property is None:\n",
    "            property = self.calc.potential_energy\n",
    "        if self.sample is None:\n",
    "            self.setup_sample()\n",
    "        numerator = np.sum(property(self.sample))\n",
    "        denominator = len(self.sample)\n",
    "        return numerator / denominator\n",
    "        \n",
    "    def setup_sample(self):\n",
    "        \n",
    "        xs = []\n",
    "        x = self.x\n",
    "        for e in range(self.sample_size):\n",
    "            xs.append(x)\n",
    "            if self.transition_method == 'delta':\n",
    "                x_new = x + self.delta*np.random.randn()\n",
    "            else:\n",
    "                x_new = self.xmin + (self.xmax-self.xmin)*np.random.rand()\n",
    "            de = self.calc.potential_energy(x_new) - self.calc.potential_energy(x)\n",
    "            if np.random.rand() < np.exp(-de/self.kT):\n",
    "                x = x_new\n",
    "        self.sample = np.array(xs)\n",
    "        \n",
    "        print('Sample size:',len(self.sample))\n",
    "        \n",
    "    def plot(self,ax,xwidth=0.1):\n",
    "        super().plot(ax,xwidth)\n",
    "        \n",
    "        average_V_exact = self.direct_integration()\n",
    "        average_V_sampl = self.estimate_from_sample()\n",
    "        ax.set_title(f'Ve={average_V_exact:.3f} Vmet-MC={average_V_sampl:.3f}')\n",
    "        ax.text(-1,1,f'kT={self.kT}')"
   ]
  },
  {
   "cell_type": "code",
   "execution_count": null,
   "id": "04929c47",
   "metadata": {},
   "outputs": [],
   "source": [
    "spring = Spring()\n",
    "\n",
    "fig, axes = plt.subplots(1, 4, figsize=(16,4))\n",
    "system = MonteCarloSystem(spring, sample_size=1000, transition_method='uniform')\n",
    "kTs = [0.05, 0.15, 0.25, 0.35]\n",
    "for ax,kT in zip(axes,kTs):\n",
    "    system.kT = kT\n",
    "    system.plot(ax)\n",
    "    ax.set_xlabel(r'x')\n",
    "    ax.set_ylabel(r'V')\n",
    "    ax.set_ylim([0, 1.5])\n",
    "\n",
    "fig.tight_layout()\n",
    "#fig.savefig('exercise_24_fig1.png')"
   ]
  },
  {
   "cell_type": "code",
   "execution_count": null,
   "id": "d7bb618d",
   "metadata": {},
   "outputs": [],
   "source": [
    "def velocity_verlet_1d(system, N=100):\n",
    "    rs = []\n",
    "    for _ in range(N):\n",
    "        dt = 0.01\n",
    "        r = system.get_position()\n",
    "        v = system.get_velocity()\n",
    "        a_t = system.force()\n",
    "        r += YOUR CODE\n",
    "        system.set_position(r)\n",
    "        \n",
    "        YOUR CODE\n",
    "        \n",
    "        system.set_velocity(v)\n",
    "        rs.append(r)\n",
    "        \n",
    "    return rs"
   ]
  },
  {
   "cell_type": "code",
   "execution_count": null,
   "id": "ee78fb35",
   "metadata": {},
   "outputs": [],
   "source": [
    "class MolDynSystem(SimulationSystem):\n",
    "    def __init__(self, *args, thermostat=None, verlet_steps=50, **kwargs):\n",
    "        super().__init__(*args, **kwargs)\n",
    "        self.v = 0\n",
    "        self.thermostat = thermostat\n",
    "        self.verlet_steps = verlet_steps\n",
    "        \n",
    "    def force(self):\n",
    "        return self.calc.force(self.x)\n",
    "        \n",
    "    def get_velocity(self):\n",
    "        return self.v\n",
    "    \n",
    "    def set_velocity(self,v):\n",
    "        self.v = v\n",
    "        \n",
    "    def setup_sample(self):\n",
    "        if self.sample is None:\n",
    "            self.sample = []\n",
    "        for _ in range(self.sample_size):\n",
    "            r = velocity_verlet_1d(self,N=self.verlet_steps)\n",
    "            self.sample.append(r[-1])\n",
    "            if self.thermostat is not None:\n",
    "                self.thermostat(self)\n",
    "           \n",
    "        \n",
    "    def plot(self,ax,xwidth=0.1):\n",
    "        super().plot(ax,xwidth)\n",
    "        \n",
    "        vpotave = np.mean([self.calc.potential_energy(x) for x in self.sample])\n",
    "        ax.set_title(f'<Vpot>={vpotave:.3f}')"
   ]
  },
  {
   "cell_type": "code",
   "execution_count": null,
   "id": "1c35a95b",
   "metadata": {},
   "outputs": [],
   "source": [
    "system = MolDynSystem(spring, x=1, verlet_steps=1)\n",
    "\n",
    "fig, axes = plt.subplots(1, 2, figsize=(8,4))\n",
    "\n",
    "ax = axes[1]\n",
    "system.plot(ax)\n",
    "ax.set_xlabel(r'x')\n",
    "ax.set_ylabel(r'V')\n",
    "ax.set_ylim([0, 1.5])\n",
    "\n",
    "ax = axes[0]\n",
    "ax.plot(system.sample)\n",
    "\n",
    "fig.tight_layout()"
   ]
  },
  {
   "cell_type": "code",
   "execution_count": null,
   "id": "2552c33e",
   "metadata": {},
   "outputs": [],
   "source": [
    "def nvt_thermostat(md):\n",
    "     YOUR CODE\n"
   ]
  },
  {
   "cell_type": "code",
   "execution_count": null,
   "id": "6216d26f",
   "metadata": {},
   "outputs": [],
   "source": [
    "system = MolDynSystem(spring, thermostat=nvt_thermostat, kT=0.15)\n",
    "\n",
    "fig, axes = plt.subplots(1, 2, figsize=(8,4))\n",
    "\n",
    "ax = axes[1]\n",
    "system.plot(ax)\n",
    "ax.set_xlabel(r'x')\n",
    "ax.set_ylabel(r'V')\n",
    "ax.set_ylim([0, 1.5])\n",
    "\n",
    "ax = axes[0]\n",
    "ax.plot(system.sample)\n",
    "\n",
    "fig.tight_layout()"
   ]
  },
  {
   "cell_type": "code",
   "execution_count": null,
   "id": "ff97f411",
   "metadata": {},
   "outputs": [],
   "source": [
    "fig, axes = plt.subplots(1, 4, figsize=(16,4))\n",
    "system = MolDynSystem(spring, thermostat=nvt_thermostat)\n",
    "kTs = [0.05, 0.15, 0.25, 0.35]\n",
    "for ax,kT in zip(axes,kTs):\n",
    "    system.kT = kT\n",
    "    system.plot(ax)\n",
    "    ax.set_xlabel(r'x')\n",
    "    ax.set_ylabel(r'V')\n",
    "    ax.set_ylim([0, 1.5])\n",
    "\n",
    "fig.tight_layout()"
   ]
  },
  {
   "cell_type": "code",
   "execution_count": null,
   "id": "18376aa3",
   "metadata": {},
   "outputs": [],
   "source": []
  }
 ],
 "metadata": {
  "kernelspec": {
   "display_name": "Python 3 (ipykernel)",
   "language": "python",
   "name": "python3"
  },
  "language_info": {
   "codemirror_mode": {
    "name": "ipython",
    "version": 3
   },
   "file_extension": ".py",
   "mimetype": "text/x-python",
   "name": "python",
   "nbconvert_exporter": "python",
   "pygments_lexer": "ipython3",
   "version": "3.9.7"
  }
 },
 "nbformat": 4,
 "nbformat_minor": 5
}
