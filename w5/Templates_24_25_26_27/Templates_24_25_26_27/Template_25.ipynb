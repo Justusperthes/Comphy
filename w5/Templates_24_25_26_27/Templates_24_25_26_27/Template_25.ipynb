{
 "cells": [
  {
   "cell_type": "markdown",
   "id": "61aa852c",
   "metadata": {},
   "source": [
    "# 1-dimensional MD - double well (Exercise 25)"
   ]
  },
  {
   "cell_type": "code",
   "execution_count": null,
   "id": "549bb76e",
   "metadata": {},
   "outputs": [],
   "source": [
    "import numpy as np\n",
    "import matplotlib.pyplot as plt\n",
    "plt.rc(\"xtick\", labelsize=12)\n",
    "plt.rc(\"ytick\", labelsize=12)\n",
    "plt.rc(\"axes\", titlesize=16)\n",
    "plt.rc(\"font\", size=12)\n",
    "from scipy.integrate import quad"
   ]
  },
  {
   "cell_type": "code",
   "execution_count": null,
   "id": "af83af81",
   "metadata": {},
   "outputs": [],
   "source": [
    "class DoubleWell():\n",
    "    def __init__(self,k=1, x0= 0, a1=-1, x1=1.5, l=0.25):\n",
    "        self.k = k\n",
    "        self.x0 = x0\n",
    "        self.a1 = a1\n",
    "        self.x1 = x1\n",
    "        self.l = l\n",
    "        \n",
    "    def potential_energy(self, x):\n",
    "        return 0.5 * self.k * (x - self.x0)**2 +\\\n",
    "            self.a1 * np.exp(-((x-self.x1)/self.l)**2)\n",
    "                \n",
    "    def force(self, x):\n",
    "        return -self.k * (x - self.x0) +\\\n",
    "            -2 * self.a1 * (x - self.x1)/self.l**2 * np.exp(-((x-self.x1)/self.l)**2)"
   ]
  },
  {
   "cell_type": "code",
   "execution_count": null,
   "id": "9f03bd03",
   "metadata": {},
   "outputs": [],
   "source": [
    "double_well = DoubleWell()\n",
    "xs = np.linspace(-3,3,200)\n",
    "fig, ax = plt.subplots()\n",
    "ax.plot(xs,double_well.potential_energy(xs),label=r'$E_{pot}(x)$')\n",
    "\n",
    "e = lambda x: quad(lambda x: -double_well.force(x), 0, x)[0]\n",
    "xs = np.linspace(-3,3,100)\n",
    "ax.plot(xs,[e(x) for x in xs],'C3',linestyle=(0, (5, 10)),linewidth=3,label=r\"$E_{pot}(0)-\\int_0^x f(x')dx'$\")\n",
    "ax.set_xlabel('$x$')\n",
    "ax.set_ylabel('$E(x)$')\n",
    "ax.legend()\n",
    "fig.tight_layout()\n",
    "#fig.savefig('exercise_25_fig1.png')"
   ]
  },
  {
   "cell_type": "code",
   "execution_count": null,
   "id": "855def73",
   "metadata": {},
   "outputs": [],
   "source": [
    "from week5 import MonteCarloSystem\n",
    "system = MonteCarloSystem(double_well, sample_size=10000, transition_method='uniform')\n",
    "fig, axes = plt.subplots(1, 4, figsize=(16,4))\n",
    "kTs = [0.05, 0.15, 0.25, 0.35]\n",
    "for ax,kT in zip(axes,kTs):\n",
    "    system.kT = kT\n",
    "    system.plot(ax)\n",
    "    ax.set_xlabel(r'x')\n",
    "    ax.set_ylabel(r'V')\n",
    "    ax.set_ylim([0, 1.5])\n",
    "\n",
    "fig.tight_layout()\n",
    "#fig.savefig('exercise_25_fig2.png')"
   ]
  },
  {
   "cell_type": "code",
   "execution_count": null,
   "id": "96c115d3",
   "metadata": {},
   "outputs": [],
   "source": [
    "from week5 import MolDynSystem\n",
    "\n",
    "def nvt_thermostat(md):\n",
    "    YOUR CODE\n",
    "\n",
    "md = MolDynSystem(double_well, thermostat=nvt_thermostat, x=0, sample_size=10000, verlet_steps=50)\n",
    "fig, axes = plt.subplots(1,4,figsize=(16,4))\n",
    "kTs = [0.05, 0.15, 0.25, 0.35]\n",
    "for ax,kT in zip(axes,kTs):\n",
    "    md.kT = kT\n",
    "    md.plot(ax)\n",
    "    ax.set_xlabel(r'x')\n",
    "    ax.set_ylabel(r'V')\n",
    "    ax.set_ylim([0,1.5])\n",
    "#fig.savefig('exercise_25_fig3.png')"
   ]
  },
  {
   "cell_type": "code",
   "execution_count": null,
   "id": "266635f1",
   "metadata": {},
   "outputs": [],
   "source": [
    "md = MolDynSystem(double_well, thermostat=nvt_thermostat, x=1.5, sample_size=10000, verlet_steps=50)\n",
    "fig, axes = plt.subplots(1,4,figsize=(16,4))\n",
    "kTs = [0.05, 0.15, 0.25, 0.35]\n",
    "for ax,kT in zip(axes,kTs):\n",
    "    md.kT = kT\n",
    "    md.plot(ax)\n",
    "    ax.set_xlabel(r'x')\n",
    "    ax.set_ylabel(r'V')\n",
    "    ax.set_ylim([0,1.5])\n",
    "#fig.savefig('exercise_25_fig4.png')"
   ]
  },
  {
   "cell_type": "code",
   "execution_count": null,
   "id": "8ce03cf0",
   "metadata": {},
   "outputs": [],
   "source": []
  }
 ],
 "metadata": {
  "kernelspec": {
   "display_name": "Python 3 (ipykernel)",
   "language": "python",
   "name": "python3"
  },
  "language_info": {
   "codemirror_mode": {
    "name": "ipython",
    "version": 3
   },
   "file_extension": ".py",
   "mimetype": "text/x-python",
   "name": "python",
   "nbconvert_exporter": "python",
   "pygments_lexer": "ipython3",
   "version": "3.9.7"
  }
 },
 "nbformat": 4,
 "nbformat_minor": 5
}
