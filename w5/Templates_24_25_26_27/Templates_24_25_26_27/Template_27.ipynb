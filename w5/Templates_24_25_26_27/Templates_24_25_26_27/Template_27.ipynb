{
 "cells": [
  {
   "cell_type": "markdown",
   "id": "61aa852c",
   "metadata": {},
   "source": [
    "# Constant temperature MD (Exercise 27)"
   ]
  },
  {
   "cell_type": "code",
   "execution_count": null,
   "id": "549bb76e",
   "metadata": {},
   "outputs": [],
   "source": [
    "import numpy as np\n",
    "import matplotlib.pyplot as plt\n",
    "plt.rc(\"xtick\", labelsize=12)\n",
    "plt.rc(\"ytick\", labelsize=12)\n",
    "plt.rc(\"axes\", titlesize=16)\n",
    "plt.rc(\"font\", size=12)"
   ]
  },
  {
   "cell_type": "code",
   "execution_count": null,
   "id": "a21aea4d",
   "metadata": {},
   "outputs": [],
   "source": [
    "from week5 import LennardJones, relax\n",
    "lennard_jones_calc = LennardJones()\n"
   ]
  },
  {
   "cell_type": "code",
   "execution_count": null,
   "id": "adb344bb",
   "metadata": {},
   "outputs": [],
   "source": [
    "from week5 import AtomicCluster\n",
    "\n",
    "def velocity_verlet(cluster, N=100):\n",
    "    for _ in range(N):\n",
    "        dt = 0.01\n",
    "        r = cluster.get_positions()\n",
    "        v = cluster.get_velocities()\n",
    "        a_t = cluster.forces()\n",
    "        r += v * dt + 0.5 * a_t * dt**2\n",
    "        cluster.set_positions(r)\n",
    "        a_t_dt = cluster.forces()\n",
    "        v += 0.5 * (a_t + a_t_dt) * dt\n",
    "        cluster.set_velocities(v)"
   ]
  },
  {
   "cell_type": "code",
   "execution_count": null,
   "id": "1ddfadac",
   "metadata": {},
   "outputs": [],
   "source": [
    "def nvt_thermostat(md):\n",
    "        v = YOUR CODE\n",
    "        v = YOUR CODE\n",
    "        md. YOUR CODE"
   ]
  },
  {
   "cell_type": "code",
   "execution_count": null,
   "id": "13f42cb2",
   "metadata": {},
   "outputs": [],
   "source": [
    "from matplotlib import animation\n",
    "plt.rc('animation', html='jshtml')"
   ]
  },
  {
   "cell_type": "code",
   "execution_count": null,
   "id": "cd8ea8e0",
   "metadata": {},
   "outputs": [],
   "source": [
    "kT = 0.5\n",
    "pos = [[-0.5,0],[0.5,0],[0,1]]\n",
    "atomic_cluster = AtomicCluster(lennard_jones_calc,pos=pos,kT=kT)\n",
    "relax(atomic_cluster)\n",
    "nvt_thermostat(atomic_cluster)\n",
    "\n",
    "fig, axes = plt.subplots(1,2,figsize=(8,4))\n",
    "\n",
    "ax = axes[0]\n",
    "color = 'C0'\n",
    "lim = [-4,4]\n",
    "ring_size = 400\n",
    "atomic_cluster.draw(ax,ring_size,alpha=0.8,edge=True,color=color)\n",
    "ax.xaxis.set_major_locator(plt.MultipleLocator(1.0))\n",
    "ax.yaxis.set_major_locator(plt.MultipleLocator(1.0))\n",
    "ax.set_aspect('equal')\n",
    "ax.set_xlim(lim)\n",
    "ax.set_ylim(lim)\n",
    "ax.grid('on')\n",
    "    \n",
    "ax = axes[1]\n",
    "N = 50\n",
    "N2 = 1\n",
    "ax.set_xlim([0,N*N2])\n",
    "ax.set_ylim([-15.4,8.4])\n",
    "\n",
    "Nbefore = 0\n",
    "Nafter = 0\n",
    "energies = []\n",
    "def update(i):\n",
    "    if i > 0:\n",
    "        for _ in range(N2):\n",
    "            velocity_verlet(atomic_cluster,N=50)\n",
    "            energies.append(atomic_cluster.potential_energy + \\\n",
    "                               atomic_cluster.kinetic_energy)\n",
    "            nvt_thermostat(atomic_cluster)\n",
    "        atomic_cluster.draw(axes[0])\n",
    "    axes[1].plot(energies)\n",
    "\n",
    "    return []\n",
    "\n",
    "anim = animation.FuncAnimation(fig,\n",
    "                               update,\n",
    "                               frames=Nbefore + N + Nafter,\n",
    "                               interval=50,\n",
    "                               blit=True)\n",
    "anim"
   ]
  },
  {
   "cell_type": "code",
   "execution_count": null,
   "id": "f1a38527",
   "metadata": {},
   "outputs": [],
   "source": []
  }
 ],
 "metadata": {
  "kernelspec": {
   "display_name": "Python 3 (ipykernel)",
   "language": "python",
   "name": "python3"
  },
  "language_info": {
   "codemirror_mode": {
    "name": "ipython",
    "version": 3
   },
   "file_extension": ".py",
   "mimetype": "text/x-python",
   "name": "python",
   "nbconvert_exporter": "python",
   "pygments_lexer": "ipython3",
   "version": "3.9.7"
  }
 },
 "nbformat": 4,
 "nbformat_minor": 5
}
