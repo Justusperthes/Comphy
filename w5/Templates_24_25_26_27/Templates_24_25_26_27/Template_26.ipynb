{
 "cells": [
  {
   "cell_type": "markdown",
   "id": "61aa852c",
   "metadata": {},
   "source": [
    "# Constant energy MD (Exercise 26)"
   ]
  },
  {
   "cell_type": "code",
   "execution_count": null,
   "id": "549bb76e",
   "metadata": {},
   "outputs": [],
   "source": [
    "import numpy as np\n",
    "import matplotlib.pyplot as plt\n",
    "plt.rc(\"xtick\", labelsize=12)\n",
    "plt.rc(\"ytick\", labelsize=12)\n",
    "plt.rc(\"axes\", titlesize=16)\n",
    "plt.rc(\"font\", size=12)"
   ]
  },
  {
   "cell_type": "code",
   "execution_count": null,
   "id": "a21aea4d",
   "metadata": {},
   "outputs": [],
   "source": [
    "from week5 import LennardJones, relax\n",
    "lennard_jones_calc = LennardJones()\n",
    "\n",
    "def format(ax):\n",
    "    ax.xaxis.set_major_locator(plt.MultipleLocator(1.0))\n",
    "    ax.yaxis.set_major_locator(plt.MultipleLocator(1.0))\n",
    "    ax.set_aspect('equal')\n",
    "    ax.set_xlim([-2,2])\n",
    "    ax.set_ylim([-1,2])\n",
    "    ax.grid('on')"
   ]
  },
  {
   "cell_type": "code",
   "execution_count": null,
   "id": "adb344bb",
   "metadata": {},
   "outputs": [],
   "source": [
    "from week5 import StaticAtomicCluster\n",
    "\n",
    "class AtomicCluster(StaticAtomicCluster):\n",
    "\n",
    "    def __init__(self, *args, **kwargs):\n",
    "        \n",
    "        self.velocities = np.zeros(self.pos.shape)\n",
    "         \n",
    "    def copy(self):\n",
    "        return AtomicCluster(self.calc, pos=self.pos, static=self.static, b=self.b)\n",
    "    \n",
    "    @property\n",
    "    def kinetic_energy(self):\n",
    "        return 0.5 * np.sum(self.velocities**2)\n",
    "\n",
    "    def forces(self):\n",
    "        forces = self.calc.forces(self.pos)\n",
    "        return np.where(self.filter,0,forces)\n",
    "    \n",
    "    def set_velocities(self,velocities):\n",
    "            self.velocities = np.where(self.filter,0,velocities)\n",
    "\n",
    "    YOUR CODE\n",
    "    \n",
    "    def energy_title(self):\n",
    "        return f'Ek={self.kinetic_energy:.1f} ' +\\\n",
    "               f'Ep={self.potential_energy:.1f} ' + \\\n",
    "               f'E={self.potential_energy + self.kinetic_energy:.1f}'"
   ]
  },
  {
   "cell_type": "code",
   "execution_count": null,
   "id": "275d5e34",
   "metadata": {},
   "outputs": [],
   "source": [
    "pos = [[-0.5,0],[0.5,0],[0,1]]\n",
    "static = [True] * 2 + [False]\n",
    "pos = [[-2,0], [-1,0], [0,0], [1,0], [2,0], [-0.5,0.8], [0.5,1.0]]\n",
    "static = [True] * 5 + [False] * 2\n",
    "\n",
    "atomic_cluster0 = AtomicCluster(lennard_jones_calc,pos=pos, static=static)\n",
    "atomic_cluster = atomic_cluster0.copy()\n",
    "\n",
    "fig, axes = plt.subplots(1,2,figsize=(8,4))\n",
    "\n",
    "color = 'C0'\n",
    "ring_size = 2000\n",
    "\n",
    "ax = axes[0]\n",
    "atomic_cluster.draw(ax,ring_size,alpha=0.8,edge=True,color=color)\n",
    "format(ax)\n",
    "        \n",
    "relax(atomic_cluster)\n",
    "ax = axes[1]\n",
    "atomic_cluster.draw(ax,ring_size,alpha=0.8,edge=True,color=color)\n",
    "format(ax)\n",
    "        "
   ]
  },
  {
   "cell_type": "code",
   "execution_count": null,
   "id": "879ab574",
   "metadata": {},
   "outputs": [],
   "source": [
    "fig.tight_layout()\n",
    "#fig.savefig('exercise_26_fig1.png')"
   ]
  },
  {
   "cell_type": "code",
   "execution_count": null,
   "id": "7d8cc8ee",
   "metadata": {},
   "outputs": [],
   "source": [
    "def velocity_verlet(cluster, N=100):\n",
    "    for _ in range(N):\n",
    "        dt = 0.01\n",
    "        r = cluster. YOUR CODE\n",
    "        v = cluster. YOUR CODE\n",
    "        a_t = cluster. YOUR CODE\n",
    "        r += v * dt + 0.5 * a_t * dt**2\n",
    "        cluster. YOUR CODE\n",
    "        a_t_dt = cluster. YOUR CODE\n",
    "        v += 0.5 * (a_t + a_t_dt) * dt\n",
    "        cluster. YOUR CODE"
   ]
  },
  {
   "cell_type": "code",
   "execution_count": null,
   "id": "35ca433c",
   "metadata": {},
   "outputs": [],
   "source": []
  },
  {
   "cell_type": "code",
   "execution_count": null,
   "id": "381d9b24",
   "metadata": {},
   "outputs": [],
   "source": [
    "atomic_cluster = atomic_cluster0.copy()\n",
    "\n",
    "fig, axes = plt.subplots(2,4,figsize=(16,8))\n",
    "\n",
    "for ax in axes.ravel():\n",
    "    atomic_cluster.draw(ax,ring_size,alpha=0.8,edge=True,color=color)\n",
    "    velocity_verlet(atomic_cluster)\n",
    "    format(ax)"
   ]
  },
  {
   "cell_type": "code",
   "execution_count": null,
   "id": "93050507",
   "metadata": {},
   "outputs": [],
   "source": [
    "atomic_cluster = atomic_cluster0.copy()\n",
    "\n",
    "fig, ax = plt.subplots(figsize=(4,4))\n",
    "\n",
    "atomic_cluster.draw(ax,ring_size,alpha=0.8,edge=True,color=color)\n",
    "format(ax)"
   ]
  },
  {
   "cell_type": "code",
   "execution_count": null,
   "id": "f9203b45",
   "metadata": {},
   "outputs": [],
   "source": [
    "from matplotlib import animation\n",
    "plt.rc('animation', html='jshtml')\n",
    "\n",
    "N = 100\n",
    "\n",
    "\n",
    "\n",
    "Nbefore = 5\n",
    "Nafter = 5\n",
    "def update(i):\n",
    "    velocity_verlet(atomic_cluster,N=5)\n",
    "    drawing_object = atomic_cluster.draw(ax)\n",
    "    return []#drawing_object\n",
    "\n",
    "anim = animation.FuncAnimation(fig,\n",
    "                               update,\n",
    "                               frames=Nbefore + N + Nafter,\n",
    "                               interval=50,\n",
    "                               blit=True)\n",
    "anim"
   ]
  },
  {
   "cell_type": "code",
   "execution_count": null,
   "id": "db8113a7",
   "metadata": {},
   "outputs": [],
   "source": []
  }
 ],
 "metadata": {
  "kernelspec": {
   "display_name": "Python 3 (ipykernel)",
   "language": "python",
   "name": "python3"
  },
  "language_info": {
   "codemirror_mode": {
    "name": "ipython",
    "version": 3
   },
   "file_extension": ".py",
   "mimetype": "text/x-python",
   "name": "python",
   "nbconvert_exporter": "python",
   "pygments_lexer": "ipython3",
   "version": "3.9.7"
  }
 },
 "nbformat": 4,
 "nbformat_minor": 5
}
