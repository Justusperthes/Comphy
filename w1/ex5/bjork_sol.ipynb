{
 "cells": [
  {
   "cell_type": "markdown",
   "id": "80ebcfe7",
   "metadata": {},
   "source": [
    "# Tautochrone problem"
   ]
  },
  {
   "cell_type": "code",
   "execution_count": null,
   "id": "85fea7e4",
   "metadata": {},
   "outputs": [],
   "source": [
    "import numpy as np\n",
    "from scipy.integrate import solve_ivp\n",
    "from scipy.optimize import fsolve\n",
    "import matplotlib.pyplot as plt\n",
    "\n",
    "plt.close('all')\n",
    "plt.rc('font', size=16)"
   ]
  },
  {
   "cell_type": "code",
   "execution_count": null,
   "id": "80de6b66",
   "metadata": {},
   "outputs": [],
   "source": [
    "# hit bottom at x=30\n",
    "x1 = 30\n",
    "phi1 = np.pi\n",
    "\n",
    "a = x1/(phi1 - np.sin(phi1))\n"
   ]
  },
  {
   "cell_type": "code",
   "execution_count": null,
   "id": "c1231929",
   "metadata": {},
   "outputs": [],
   "source": [
    "def cyk(x):\n",
    "    p = fsolve(lambda p: a*(p-np.sin(p))-x,2)[0]\n",
    "    y = a * (1 + np.cos(p))\n",
    "    return y"
   ]
  },
  {
   "cell_type": "code",
   "execution_count": null,
   "id": "0764a071",
   "metadata": {},
   "outputs": [],
   "source": [
    "def d_cyk_dx(x):\n",
    "    dx = 0.00001\n",
    "    return (cyk(x+dx) - cyk(x) ) / dx"
   ]
  },
  {
   "cell_type": "code",
   "execution_count": null,
   "id": "50489066",
   "metadata": {},
   "outputs": [],
   "source": [
    "g = 9.8\n",
    "\n",
    "tinit = 0\n",
    "tfinal = 4\n",
    "trange = [tinit,tfinal]\n",
    "\n",
    "tdelta = 0.1\n",
    "\n",
    "def dxdt(t, p, y, dydx, yinit):\n",
    "    x = p[0]\n",
    "    dxdt = np.sqrt(2*g) * np.sqrt(0.000000001 + yinit - y) / np.sqrt(1 + dydx**2)\n",
    "    return dxdt\n",
    "\n",
    "def hit_x1(t, p):\n",
    "    x = p[0]\n",
    "    return x - x1\n",
    "\n",
    "class Box():\n",
    "    \n",
    "    def __init__(self, y, dydx, xinit, times_for_plot):\n",
    "        self.y = y\n",
    "        self.dydx = dydx\n",
    "        self.xinit = xinit\n",
    "        self.yinit = y(xinit)\n",
    "        self._ready = False\n",
    "        self.drawing_elements = {}\n",
    "        self.times_for_plot = times_for_plot\n",
    "                 \n",
    "    def _solve_eq_of_motion(self):\n",
    "        mysol = solve_ivp(lambda t, p: dxdt(t, p, self.y(p[0]), self.dydx(p[0]), self.yinit),\n",
    "                          trange, [self.xinit],\n",
    "                          max_step=1e-3,\n",
    "                          t_eval=self._times_for_plot,\n",
    "                          events=[hit_x1])\n",
    "        self._ts = mysol.t\n",
    "        self._xs = mysol.y[0]\n",
    "        self._ys = [self.y(x) for x in self._xs]\n",
    "        \n",
    "        self._t_hit_x1 = mysol.t_events[0]\n",
    "        \n",
    "        self._ready = True\n",
    "        \n",
    "    @property\n",
    "    def ts(self):\n",
    "        if not self._ready:\n",
    "            self._solve_eq_of_motion()\n",
    "        return self._ts\n",
    "    \n",
    "    @property\n",
    "    def xs(self):\n",
    "        if not self._ready:\n",
    "            self._solve_eq_of_motion()\n",
    "        return self._xs\n",
    "    \n",
    "    @property\n",
    "    def ys(self):\n",
    "        if not self._ready:\n",
    "            self._solve_eq_of_motion()\n",
    "        return self._ys\n",
    "    \n",
    "    @property\n",
    "    def t_hit_x1(self):\n",
    "        if not self._ready:\n",
    "            self._solve_eq_of_motion()\n",
    "        return self._t_hit_x1\n",
    "    \n",
    "    @property\n",
    "    def times_for_plot(self):\n",
    "        return self._times_for_plot\n",
    "    \n",
    "    @times_for_plot.setter\n",
    "    def times_for_plot(self,new_times):\n",
    "        self._times_for_plot = new_times\n",
    "        self._ready = False\n",
    "        \n",
    "    def draw(self, ax, time):\n",
    "        if not self._ready:\n",
    "            self._solve_eq_of_motion()\n",
    "        if not self.drawing_elements.get(ax,None):\n",
    "            self.drawing_elements[ax] = ax.plot(self.xinit,self.yinit,'o',ms=20,alpha=0.3)[0]\n",
    "        drawing_element = self.drawing_elements[ax]\n",
    "        indices = [i for i,bool in zip(range(len(self.times_for_plot)),\n",
    "                                       self.times_for_plot==time) if bool]\n",
    "        assert len(indices)==1, f'problem with time {time}'\n",
    "        i = indices[0]\n",
    "        drawing_element.set_data(self.xs[i],self.ys[i])\n",
    "        return drawing_element"
   ]
  },
  {
   "cell_type": "code",
   "execution_count": null,
   "id": "7a3e6bed",
   "metadata": {},
   "outputs": [],
   "source": [
    "fig, ax = plt.subplots()\n",
    "ax.set_aspect('equal')\n",
    "ax.grid()\n",
    "ax.set_xlabel('$x$')\n",
    "ax.set_ylabel('$y$')\n",
    "\n",
    "xs = np.linspace(0,30,100)\n",
    "ax.plot(xs,[cyk(x) for x in xs])\n",
    "xs = np.linspace(30,40,100)\n",
    "ax.plot(xs,[cyk(x) for x in xs],color='C0',linestyle='dashed')\n",
    "ax.plot([30, 30],[-10, 25], color='k')\n",
    "for y00 in np.linspace(-9, 22, 12):\n",
    "    ax.plot([30, 32],[y00,y00+1], color='k')"
   ]
  },
  {
   "cell_type": "code",
   "execution_count": null,
   "id": "5426cebd",
   "metadata": {},
   "outputs": [],
   "source": [
    "times = np.arange(0, 4, 0.1)\n",
    "boxes = [Box(cyk, d_cyk_dx, x, times) for x in [1, 2, 4, 8]]\n",
    "for box in boxes:\n",
    "    print(box.t_hit_x1)\n"
   ]
  },
  {
   "cell_type": "code",
   "execution_count": null,
   "id": "3469b71f",
   "metadata": {},
   "outputs": [],
   "source": [
    "for box in boxes:\n",
    "    box.draw(ax, 0)\n",
    "fig"
   ]
  },
  {
   "cell_type": "code",
   "execution_count": null,
   "id": "0523d813",
   "metadata": {},
   "outputs": [],
   "source": [
    "from matplotlib import animation\n",
    "plt.rc('animation', html='jshtml')\n",
    "\n",
    "N = len(times)\n",
    "def update(i):\n",
    "    i -= 10\n",
    "    i = min(i, N-1)\n",
    "    i = max(i, 0)\n",
    "    time = times[i]\n",
    "    all_balls = []\n",
    "    for box in boxes:\n",
    "        ball = box.draw(ax,time)\n",
    "        all_balls.append(ball)\n",
    "    return all_balls\n",
    "\n",
    "anim = animation.FuncAnimation(fig,\n",
    "                               update,\n",
    "                               frames=2*N,\n",
    "                               interval=50,\n",
    "                               blit=True)\n",
    "anim"
   ]
  },
  {
   "cell_type": "code",
   "execution_count": null,
   "id": "74c8d0fd",
   "metadata": {},
   "outputs": [],
   "source": [
    "upper_time = boxes[0].t_hit_x1[0]\n",
    "N = 20\n",
    "times = np.linspace(0, upper_time, N)\n",
    "print(times)"
   ]
  },
  {
   "cell_type": "code",
   "execution_count": null,
   "id": "390d7617",
   "metadata": {},
   "outputs": [],
   "source": [
    "for box in boxes:\n",
    "    box.times_for_plot = times\n",
    "\n",
    "anim = animation.FuncAnimation(fig,\n",
    "                               update,\n",
    "                               frames=2*N,\n",
    "                               interval=50,\n",
    "                               blit=True)\n",
    "anim"
   ]
  },
  {
   "cell_type": "code",
   "execution_count": null,
   "id": "0def8c96",
   "metadata": {},
   "outputs": [],
   "source": [
    "writer = animation.writers['pillow'](fps=10) # frames per second\n",
    "anim.save('exercise_05_fig1.gif', writer=writer)"
   ]
  },
  {
   "cell_type": "code",
   "execution_count": null,
   "id": "8eda1a9c",
   "metadata": {},
   "outputs": [],
   "source": [
    "fig, ax = plt.subplots()\n",
    "ax.set_aspect('equal')\n",
    "ax.grid()\n",
    "ax.set_xlabel('$x$')\n",
    "ax.set_ylabel('$y$')\n",
    "\n",
    "xs = np.linspace(0,30,100)\n",
    "ax.plot(xs,[cyk(x) for x in xs])\n",
    "xs = np.linspace(30,40,100)\n",
    "ax.plot(xs,[cyk(x) for x in xs],color='C0',linestyle='dashed')\n",
    "ax.plot([30, 30],[-10, 25], color='k')\n",
    "for y00 in np.linspace(-9, 22, 12):\n",
    "    ax.plot([30, 32],[y00,y00+1], color='k')"
   ]
  },
  {
   "cell_type": "code",
   "execution_count": null,
   "id": "8b986c7b",
   "metadata": {},
   "outputs": [],
   "source": [
    "for box in boxes:\n",
    "    box.draw(ax, 0)\n",
    "fig"
   ]
  },
  {
   "cell_type": "code",
   "execution_count": null,
   "id": "65644e02",
   "metadata": {},
   "outputs": [],
   "source": [
    "boxes[0].drawing_elements"
   ]
  },
  {
   "cell_type": "code",
   "execution_count": null,
   "id": "b4744326",
   "metadata": {},
   "outputs": [],
   "source": [
    "for key in boxes[0].drawing_elements:\n",
    "    print(id(key))"
   ]
  },
  {
   "cell_type": "code",
   "execution_count": null,
   "id": "899b4b8d",
   "metadata": {},
   "outputs": [],
   "source": [
    "a = [1.001, 2, 2.999]\n",
    "indices = np.where(a == 2)\n",
    "indices"
   ]
  },
  {
   "cell_type": "code",
   "execution_count": null,
   "id": "91865d1e",
   "metadata": {},
   "outputs": [],
   "source": [
    "indices"
   ]
  },
  {
   "cell_type": "code",
   "execution_count": null,
   "id": "f9fe7c43",
   "metadata": {},
   "outputs": [],
   "source": [
    "a = [1.001, 2, 2.999]\n",
    "indices = np.where(np.isclose(a, 2))[0]\n",
    "print(indices)"
   ]
  },
  {
   "cell_type": "code",
   "execution_count": null,
   "id": "78adc212",
   "metadata": {},
   "outputs": [],
   "source": []
  }
 ],
 "metadata": {
  "kernelspec": {
   "display_name": "Python 3 (ipykernel)",
   "language": "python",
   "name": "python3"
  },
  "language_info": {
   "codemirror_mode": {
    "name": "ipython",
    "version": 3
   },
   "file_extension": ".py",
   "mimetype": "text/x-python",
   "name": "python",
   "nbconvert_exporter": "python",
   "pygments_lexer": "ipython3",
   "version": "3.9.7"
  }
 },
 "nbformat": 4,
 "nbformat_minor": 5
}
