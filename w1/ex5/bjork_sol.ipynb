{
 "cells": [
  {
   "cell_type": "markdown",
   "id": "80ebcfe7",
   "metadata": {},
   "source": [
    "# Tautochrone problem"
   ]
  },
  {
   "cell_type": "code",
   "execution_count": 13,
   "id": "b53ad52c",
   "metadata": {},
   "outputs": [
    {
     "name": "stdout",
     "output_type": "stream",
     "text": [
      "matplotlib installed successfully\n"
     ]
    }
   ],
   "source": [
    "import matplotlib.pyplot as plt\n",
    "print(\"matplotlib installed successfully\")"
   ]
  },
  {
   "cell_type": "code",
   "execution_count": 14,
   "id": "be37704e",
   "metadata": {},
   "outputs": [
    {
     "name": "stdout",
     "output_type": "stream",
     "text": [
      "Requirement already satisfied: matplotlib in c:\\python312\\lib\\site-packages (3.9.2)\n",
      "Requirement already satisfied: contourpy>=1.0.1 in c:\\python312\\lib\\site-packages (from matplotlib) (1.3.0)\n",
      "Requirement already satisfied: cycler>=0.10 in c:\\python312\\lib\\site-packages (from matplotlib) (0.12.1)\n",
      "Requirement already satisfied: fonttools>=4.22.0 in c:\\python312\\lib\\site-packages (from matplotlib) (4.53.1)\n",
      "Requirement already satisfied: kiwisolver>=1.3.1 in c:\\python312\\lib\\site-packages (from matplotlib) (1.4.5)\n",
      "Requirement already satisfied: numpy>=1.23 in c:\\python312\\lib\\site-packages (from matplotlib) (2.1.0)\n",
      "Requirement already satisfied: packaging>=20.0 in c:\\users\\jacob\\appdata\\roaming\\python\\python312\\site-packages (from matplotlib) (24.1)\n",
      "Requirement already satisfied: pillow>=8 in c:\\python312\\lib\\site-packages (from matplotlib) (10.4.0)\n",
      "Requirement already satisfied: pyparsing>=2.3.1 in c:\\python312\\lib\\site-packages (from matplotlib) (3.1.4)\n",
      "Requirement already satisfied: python-dateutil>=2.7 in c:\\users\\jacob\\appdata\\roaming\\python\\python312\\site-packages (from matplotlib) (2.9.0.post0)\n",
      "Requirement already satisfied: six>=1.5 in c:\\users\\jacob\\appdata\\roaming\\python\\python312\\site-packages (from python-dateutil>=2.7->matplotlib) (1.16.0)\n"
     ]
    },
    {
     "name": "stderr",
     "output_type": "stream",
     "text": [
      "\n",
      "[notice] A new release of pip is available: 24.0 -> 24.2\n",
      "[notice] To update, run: python.exe -m pip install --upgrade pip\n"
     ]
    }
   ],
   "source": [
    "!pip install matplotlib"
   ]
  },
  {
   "cell_type": "code",
   "execution_count": 15,
   "id": "85fea7e4",
   "metadata": {},
   "outputs": [],
   "source": [
    "import numpy as np\n",
    "from scipy.integrate import solve_ivp\n",
    "from scipy.optimize import fsolve\n",
    "import matplotlib.pyplot as plt\n",
    "\n",
    "plt.close('all')\n",
    "plt.rc('font', size=16)"
   ]
  },
  {
   "cell_type": "code",
   "execution_count": 16,
   "id": "80de6b66",
   "metadata": {},
   "outputs": [],
   "source": [
    "# hit bottom at x=30\n",
    "x1 = 30\n",
    "phi1 = np.pi\n",
    "\n",
    "a = x1/(phi1 - np.sin(phi1))\n"
   ]
  },
  {
   "cell_type": "code",
   "execution_count": 17,
   "id": "c1231929",
   "metadata": {},
   "outputs": [],
   "source": [
    "def cyk(x):\n",
    "    p = fsolve(lambda p: a*(p-np.sin(p))-x,2)[0]\n",
    "    y = a * (1 + np.cos(p))\n",
    "    return y"
   ]
  },
  {
   "cell_type": "code",
   "execution_count": 18,
   "id": "0764a071",
   "metadata": {},
   "outputs": [],
   "source": [
    "def d_cyk_dx(x):\n",
    "    dx = 0.00001\n",
    "    return (cyk(x+dx) - cyk(x) ) / dx"
   ]
  },
  {
   "cell_type": "code",
   "execution_count": 19,
   "id": "50489066",
   "metadata": {},
   "outputs": [],
   "source": [
    "g = 9.8\n",
    "\n",
    "tinit = 0\n",
    "tfinal = 4\n",
    "trange = [tinit,tfinal]\n",
    "\n",
    "tdelta = 0.1\n",
    "\n",
    "def dxdt(t, p, y, dydx, yinit):\n",
    "    x = p[0]\n",
    "    dxdt = np.sqrt(2*g) * np.sqrt(0.000000001 + yinit - y) / np.sqrt(1 + dydx**2)\n",
    "    return dxdt\n",
    "\n",
    "def hit_x1(t, p):\n",
    "    x = p[0]\n",
    "    return x - x1\n",
    "\n",
    "class Box():\n",
    "    \n",
    "    def __init__(self, y, dydx, xinit, times_for_plot):\n",
    "        self.y = y\n",
    "        self.dydx = dydx\n",
    "        self.xinit = xinit\n",
    "        self.yinit = y(xinit)\n",
    "        self._ready = False\n",
    "        self.drawing_elements = {}\n",
    "        self.times_for_plot = times_for_plot\n",
    "                 \n",
    "    def _solve_eq_of_motion(self):\n",
    "        mysol = solve_ivp(lambda t, p: dxdt(t, p, self.y(p[0]), self.dydx(p[0]), self.yinit),\n",
    "                          trange, [self.xinit],\n",
    "                          max_step=1e-3,\n",
    "                          t_eval=self._times_for_plot,\n",
    "                          events=[hit_x1])\n",
    "        self._ts = mysol.t\n",
    "        self._xs = mysol.y[0]\n",
    "        self._ys = [self.y(x) for x in self._xs]\n",
    "        \n",
    "        self._t_hit_x1 = mysol.t_events[0]\n",
    "        \n",
    "        self._ready = True\n",
    "        \n",
    "    @property\n",
    "    def ts(self):\n",
    "        if not self._ready:\n",
    "            self._solve_eq_of_motion()\n",
    "        return self._ts\n",
    "    \n",
    "    @property\n",
    "    def xs(self):\n",
    "        if not self._ready:\n",
    "            self._solve_eq_of_motion()\n",
    "        return self._xs\n",
    "    \n",
    "    @property\n",
    "    def ys(self):\n",
    "        if not self._ready:\n",
    "            self._solve_eq_of_motion()\n",
    "        return self._ys\n",
    "    \n",
    "    @property\n",
    "    def t_hit_x1(self):\n",
    "        if not self._ready:\n",
    "            self._solve_eq_of_motion()\n",
    "        return self._t_hit_x1\n",
    "    \n",
    "    @property\n",
    "    def times_for_plot(self):\n",
    "        return self._times_for_plot\n",
    "    \n",
    "    @times_for_plot.setter\n",
    "    def times_for_plot(self,new_times):\n",
    "        self._times_for_plot = new_times\n",
    "        self._ready = False\n",
    "        \n",
    "    def draw(self, ax, time):\n",
    "        if not self._ready:\n",
    "            self._solve_eq_of_motion()\n",
    "        if not self.drawing_elements.get(ax,None):\n",
    "            self.drawing_elements[ax] = ax.plot(self.xinit,self.yinit,'o',ms=20,alpha=0.3)[0]\n",
    "        drawing_element = self.drawing_elements[ax]\n",
    "        indices = [i for i,bool in zip(range(len(self.times_for_plot)),\n",
    "                                       self.times_for_plot==time) if bool]\n",
    "        assert len(indices)==1, f'problem with time {time}'\n",
    "        i = indices[0]\n",
    "        drawing_element.set_data(self.xs[i],self.ys[i])\n",
    "        return drawing_element"
   ]
  },
  {
   "cell_type": "code",
   "execution_count": 20,
   "id": "7a3e6bed",
   "metadata": {},
   "outputs": [
    {
     "data": {
      "image/png": "[encoded data removed]",
      "text/plain": [
       "<Figure size 640x480 with 1 Axes>"
      ]
     },
     "metadata": {},
     "output_type": "display_data"
    }
   ],
   "source": [
    "fig, ax = plt.subplots()\n",
    "ax.set_aspect('equal')\n",
    "ax.grid()\n",
    "ax.set_xlabel('$x$')\n",
    "ax.set_ylabel('$y$')\n",
    "\n",
    "xs = np.linspace(0,30,100)\n",
    "ax.plot(xs,[cyk(x) for x in xs])\n",
    "xs = np.linspace(30,40,100)\n",
    "ax.plot(xs,[cyk(x) for x in xs],color='C0',linestyle='dashed')\n",
    "ax.plot([30, 30],[-10, 25], color='k')\n",
    "for y00 in np.linspace(-9, 22, 12):\n",
    "    ax.plot([30, 32],[y00,y00+1], color='k')"
   ]
  },
  {
   "cell_type": "code",
   "execution_count": 21,
   "id": "5426cebd",
   "metadata": {},
   "outputs": [
    {
     "name": "stdout",
     "output_type": "stream",
     "text": [
      "[3.10119739]\n",
      "[3.10119444]\n",
      "[3.10118855]\n",
      "[3.10117643]\n"
     ]
    }
   ],
   "source": [
    "times = np.arange(0, 4, 0.1)\n",
    "boxes = [Box(cyk, d_cyk_dx, x, times) for x in [1, 2, 4, 8]]\n",
    "for box in boxes:\n",
    "    print(box.t_hit_x1)\n"
   ]
  },
  {
   "cell_type": "code",
   "execution_count": 22,
   "id": "3469b71f",
   "metadata": {},
   "outputs": [
    {
     "ename": "RuntimeError",
     "evalue": "x must be a sequence",
     "output_type": "error",
     "traceback": [
      "\u001b[1;31m---------------------------------------------------------------------------\u001b[0m",
      "\u001b[1;31mRuntimeError\u001b[0m                              Traceback (most recent call last)",
      "Cell \u001b[1;32mIn[22], line 2\u001b[0m\n\u001b[0;32m      1\u001b[0m \u001b[38;5;28;01mfor\u001b[39;00m box \u001b[38;5;129;01min\u001b[39;00m boxes:\n\u001b[1;32m----> 2\u001b[0m     \u001b[43mbox\u001b[49m\u001b[38;5;241;43m.\u001b[39;49m\u001b[43mdraw\u001b[49m\u001b[43m(\u001b[49m\u001b[43max\u001b[49m\u001b[43m,\u001b[49m\u001b[43m \u001b[49m\u001b[38;5;241;43m0\u001b[39;49m\u001b[43m)\u001b[49m\n\u001b[0;32m      3\u001b[0m fig\n",
      "Cell \u001b[1;32mIn[19], line 86\u001b[0m, in \u001b[0;36mBox.draw\u001b[1;34m(self, ax, time)\u001b[0m\n\u001b[0;32m     84\u001b[0m \u001b[38;5;28;01massert\u001b[39;00m \u001b[38;5;28mlen\u001b[39m(indices)\u001b[38;5;241m==\u001b[39m\u001b[38;5;241m1\u001b[39m, \u001b[38;5;124mf\u001b[39m\u001b[38;5;124m'\u001b[39m\u001b[38;5;124mproblem with time \u001b[39m\u001b[38;5;132;01m{\u001b[39;00mtime\u001b[38;5;132;01m}\u001b[39;00m\u001b[38;5;124m'\u001b[39m\n\u001b[0;32m     85\u001b[0m i \u001b[38;5;241m=\u001b[39m indices[\u001b[38;5;241m0\u001b[39m]\n\u001b[1;32m---> 86\u001b[0m \u001b[43mdrawing_element\u001b[49m\u001b[38;5;241;43m.\u001b[39;49m\u001b[43mset_data\u001b[49m\u001b[43m(\u001b[49m\u001b[38;5;28;43mself\u001b[39;49m\u001b[38;5;241;43m.\u001b[39;49m\u001b[43mxs\u001b[49m\u001b[43m[\u001b[49m\u001b[43mi\u001b[49m\u001b[43m]\u001b[49m\u001b[43m,\u001b[49m\u001b[38;5;28;43mself\u001b[39;49m\u001b[38;5;241;43m.\u001b[39;49m\u001b[43mys\u001b[49m\u001b[43m[\u001b[49m\u001b[43mi\u001b[49m\u001b[43m]\u001b[49m\u001b[43m)\u001b[49m\n\u001b[0;32m     87\u001b[0m \u001b[38;5;28;01mreturn\u001b[39;00m drawing_element\n",
      "File \u001b[1;32mc:\\Python312\\Lib\\site-packages\\matplotlib\\lines.py:665\u001b[0m, in \u001b[0;36mLine2D.set_data\u001b[1;34m(self, *args)\u001b[0m\n\u001b[0;32m    662\u001b[0m \u001b[38;5;28;01melse\u001b[39;00m:\n\u001b[0;32m    663\u001b[0m     x, y \u001b[38;5;241m=\u001b[39m args\n\u001b[1;32m--> 665\u001b[0m \u001b[38;5;28;43mself\u001b[39;49m\u001b[38;5;241;43m.\u001b[39;49m\u001b[43mset_xdata\u001b[49m\u001b[43m(\u001b[49m\u001b[43mx\u001b[49m\u001b[43m)\u001b[49m\n\u001b[0;32m    666\u001b[0m \u001b[38;5;28mself\u001b[39m\u001b[38;5;241m.\u001b[39mset_ydata(y)\n",
      "File \u001b[1;32mc:\\Python312\\Lib\\site-packages\\matplotlib\\lines.py:1289\u001b[0m, in \u001b[0;36mLine2D.set_xdata\u001b[1;34m(self, x)\u001b[0m\n\u001b[0;32m   1276\u001b[0m \u001b[38;5;250m\u001b[39m\u001b[38;5;124;03m\"\"\"\u001b[39;00m\n\u001b[0;32m   1277\u001b[0m \u001b[38;5;124;03mSet the data array for x.\u001b[39;00m\n\u001b[0;32m   1278\u001b[0m \n\u001b[1;32m   (...)\u001b[0m\n\u001b[0;32m   1286\u001b[0m \u001b[38;5;124;03mset_ydata\u001b[39;00m\n\u001b[0;32m   1287\u001b[0m \u001b[38;5;124;03m\"\"\"\u001b[39;00m\n\u001b[0;32m   1288\u001b[0m \u001b[38;5;28;01mif\u001b[39;00m \u001b[38;5;129;01mnot\u001b[39;00m np\u001b[38;5;241m.\u001b[39miterable(x):\n\u001b[1;32m-> 1289\u001b[0m     \u001b[38;5;28;01mraise\u001b[39;00m \u001b[38;5;167;01mRuntimeError\u001b[39;00m(\u001b[38;5;124m'\u001b[39m\u001b[38;5;124mx must be a sequence\u001b[39m\u001b[38;5;124m'\u001b[39m)\n\u001b[0;32m   1290\u001b[0m \u001b[38;5;28mself\u001b[39m\u001b[38;5;241m.\u001b[39m_xorig \u001b[38;5;241m=\u001b[39m copy\u001b[38;5;241m.\u001b[39mcopy(x)\n\u001b[0;32m   1291\u001b[0m \u001b[38;5;28mself\u001b[39m\u001b[38;5;241m.\u001b[39m_invalidx \u001b[38;5;241m=\u001b[39m \u001b[38;5;28;01mTrue\u001b[39;00m\n",
      "\u001b[1;31mRuntimeError\u001b[0m: x must be a sequence"
     ]
    }
   ],
   "source": [
    "for box in boxes:\n",
    "    box.draw(ax, 0)\n",
    "fig"
   ]
  },
  {
   "cell_type": "code",
   "execution_count": null,
   "id": "0523d813",
   "metadata": {},
   "outputs": [],
   "source": [
    "from matplotlib import animation\n",
    "plt.rc('animation', html='jshtml')\n",
    "\n",
    "N = len(times)\n",
    "def update(i):\n",
    "    i -= 10\n",
    "    i = min(i, N-1)\n",
    "    i = max(i, 0)\n",
    "    time = times[i]\n",
    "    all_balls = []\n",
    "    for box in boxes:\n",
    "        ball = box.draw(ax,time)\n",
    "        all_balls.append(ball)\n",
    "    return all_balls\n",
    "\n",
    "anim = animation.FuncAnimation(fig,\n",
    "                               update,\n",
    "                               frames=2*N,\n",
    "                               interval=50,\n",
    "                               blit=True)\n",
    "anim"
   ]
  },
  {
   "cell_type": "code",
   "execution_count": null,
   "id": "74c8d0fd",
   "metadata": {},
   "outputs": [],
   "source": [
    "upper_time = boxes[0].t_hit_x1[0]\n",
    "N = 20\n",
    "times = np.linspace(0, upper_time, N)\n",
    "print(times)"
   ]
  },
  {
   "cell_type": "code",
   "execution_count": null,
   "id": "390d7617",
   "metadata": {},
   "outputs": [],
   "source": [
    "for box in boxes:\n",
    "    box.times_for_plot = times\n",
    "\n",
    "anim = animation.FuncAnimation(fig,\n",
    "                               update,\n",
    "                               frames=2*N,\n",
    "                               interval=50,\n",
    "                               blit=True)\n",
    "anim"
   ]
  },
  {
   "cell_type": "code",
   "execution_count": null,
   "id": "0def8c96",
   "metadata": {},
   "outputs": [],
   "source": [
    "writer = animation.writers['pillow'](fps=10) # frames per second\n",
    "anim.save('exercise_05_fig1.gif', writer=writer)"
   ]
  },
  {
   "cell_type": "code",
   "execution_count": null,
   "id": "8eda1a9c",
   "metadata": {},
   "outputs": [],
   "source": [
    "fig, ax = plt.subplots()\n",
    "ax.set_aspect('equal')\n",
    "ax.grid()\n",
    "ax.set_xlabel('$x$')\n",
    "ax.set_ylabel('$y$')\n",
    "\n",
    "xs = np.linspace(0,30,100)\n",
    "ax.plot(xs,[cyk(x) for x in xs])\n",
    "xs = np.linspace(30,40,100)\n",
    "ax.plot(xs,[cyk(x) for x in xs],color='C0',linestyle='dashed')\n",
    "ax.plot([30, 30],[-10, 25], color='k')\n",
    "for y00 in np.linspace(-9, 22, 12):\n",
    "    ax.plot([30, 32],[y00,y00+1], color='k')"
   ]
  },
  {
   "cell_type": "code",
   "execution_count": null,
   "id": "8b986c7b",
   "metadata": {},
   "outputs": [],
   "source": [
    "for box in boxes:\n",
    "    box.draw(ax, 0)\n",
    "fig"
   ]
  },
  {
   "cell_type": "code",
   "execution_count": null,
   "id": "65644e02",
   "metadata": {},
   "outputs": [],
   "source": [
    "boxes[0].drawing_elements"
   ]
  },
  {
   "cell_type": "code",
   "execution_count": null,
   "id": "b4744326",
   "metadata": {},
   "outputs": [],
   "source": [
    "for key in boxes[0].drawing_elements:\n",
    "    print(id(key))"
   ]
  },
  {
   "cell_type": "code",
   "execution_count": null,
   "id": "899b4b8d",
   "metadata": {},
   "outputs": [],
   "source": [
    "a = [1.001, 2, 2.999]\n",
    "indices = np.where(a == 2)\n",
    "indices"
   ]
  },
  {
   "cell_type": "code",
   "execution_count": null,
   "id": "91865d1e",
   "metadata": {},
   "outputs": [],
   "source": [
    "indices"
   ]
  },
  {
   "cell_type": "code",
   "execution_count": null,
   "id": "f9fe7c43",
   "metadata": {},
   "outputs": [],
   "source": [
    "a = [1.001, 2, 2.999]\n",
    "indices = np.where(np.isclose(a, 2))[0]\n",
    "print(indices)"
   ]
  },
  {
   "cell_type": "code",
   "execution_count": null,
   "id": "78adc212",
   "metadata": {},
   "outputs": [],
   "source": []
  }
 ],
 "metadata": {
  "kernelspec": {
   "display_name": "Python 3 (ipykernel)",
   "language": "python",
   "name": "python3"
  },
  "language_info": {
   "codemirror_mode": {
    "name": "ipython",
    "version": 3
   },
   "file_extension": ".py",
   "mimetype": "text/x-python",
   "name": "python",
   "nbconvert_exporter": "python",
   "pygments_lexer": "ipython3",
   "version": "3.12.4"
  }
 },
 "nbformat": 4,
 "nbformat_minor": 5
}
