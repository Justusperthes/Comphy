{
 "cells": [
  {
   "cell_type": "markdown",
   "metadata": {},
   "source": [
    "ex3: yadayadayada\n"
   ]
  },
  {
   "cell_type": "code",
   "execution_count": 9,
   "metadata": {},
   "outputs": [
    {
     "name": "stdout",
     "output_type": "stream",
     "text": [
      "blue\n",
      "red\n",
      "[(0, 0.5773502691896257), (-0.5, -0.28867513459481287), (0.5, -0.28867513459481287)]\n",
      "[(2, 2.5773502691896257), (1.5, 1.7113248654051871), (2.5, 1.7113248654051871)]\n"
     ]
    }
   ],
   "source": [
    "import numpy as np\n",
    "import matplotlib\n",
    "matplotlib.use('TkAgg')  # Use TkAgg backend for interactive plots\n",
    "import matplotlib.pyplot as plt\n",
    "import tkinter\n",
    "\n",
    "plt.ion()\n",
    "\n",
    "class Triangle:\n",
    "    # constructor\n",
    "    def __init__(self, color, edge_points=None, cm=(0,0), triangle=None, cross=None):\n",
    "        # attributes (instance variables)\n",
    "        self.cm = cm\n",
    "        if edge_points == None:\n",
    "            self.edge_points = self.default_equilateral_triangle(cm)\n",
    "            #self.edge_points = self.calculate_edge_points(self.set_edge_points())\n",
    "        else:\n",
    "            self.edge_points = edge_points\n",
    "        self.color = color #string color\n",
    "        #\n",
    "    \n",
    "    # setter methods\n",
    "    def set_color(self, new_color):\n",
    "        self.color = new_color\n",
    "\n",
    "    def set_edge_points(self, edge_points):\n",
    "        self.edge_points = edge_points\n",
    "    \n",
    "    def move(self,r):\n",
    "        self.edge_points = [(x + r[0], y + r[1]) for x, y in self.edge_points]\n",
    "\n",
    "        print(self.edge_points)\n",
    "\n",
    "    # getter methods\n",
    "    def get_color(self):\n",
    "        return self.color\n",
    "\n",
    "    def get_edges(self):\n",
    "        return self.edge_points\n",
    "\n",
    "    # aux methods and drawing methods\n",
    "    def default_equilateral_triangle(self, cm):\n",
    "        side_length = 1 \n",
    "        height = np.sqrt(3) / 2 * side_length\n",
    "        #vertices\n",
    "        vertex1 = (cm[0], float(cm[1] + (2/3) * height))\n",
    "        vertex2 = (cm[0] - side_length / 2, float(cm[1] - (1/3) * height))\n",
    "        vertex3 = (cm[0] + side_length / 2, float(cm[1] - (1/3) * height))\n",
    "        return [vertex1, vertex2, vertex3]\n",
    "    \n",
    "    def calculate_edge_points(self):\n",
    "        edge_points = []\n",
    "        for i in range(0,2):\n",
    "            vertex = self.edge_points[i][i]\n",
    "            edge_points.append(vertex)\n",
    "        return edge_points\n",
    "    \n",
    "    def draw(self, ax=None):\n",
    "        if ax is None:\n",
    "            fig, ax = plt.subplots()\n",
    "        triangle = plt.Polygon(self.edge_points, color=self.color)\n",
    "        ax.add_patch(triangle)\n",
    "        ax.set_xlim(-2, 2)\n",
    "        ax.set_ylim(-2, 2)\n",
    "        ax.set_aspect('equal', 'box')\n",
    "        plt.grid(True)\n",
    "        plt.show()\n",
    "\n",
    "\n",
    "my_triangle = Triangle(\"blue\")\n",
    "print(my_triangle.get_color())\n",
    "my_triangle.set_color(\"red\")\n",
    "print(my_triangle.get_color())\n",
    "vertices = [(1,1),(0,1),(0,0)]\n",
    "my_other_triangle = Triangle(\"purple\",vertices)\n",
    "my_other_triangle.get_edges()\n",
    "print(my_triangle.get_edges())\n",
    "my_triangle.draw()\n",
    "my_triangle.move([2,2])\n",
    "my_triangle.draw()"
   ]
  }
 ],
 "metadata": {
  "kernelspec": {
   "display_name": "Python (myenv)",
   "language": "python",
   "name": "myenv"
  },
  "language_info": {
   "codemirror_mode": {
    "name": "ipython",
    "version": 3
   },
   "file_extension": ".py",
   "mimetype": "text/x-python",
   "name": "python",
   "nbconvert_exporter": "python",
   "pygments_lexer": "ipython3",
   "version": "3.12.3"
  }
 },
 "nbformat": 4,
 "nbformat_minor": 2
}
