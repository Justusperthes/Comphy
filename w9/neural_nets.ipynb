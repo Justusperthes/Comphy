{
 "cells": [
  {
   "cell_type": "markdown",
   "metadata": {},
   "source": [
    "ex48"
   ]
  },
  {
   "cell_type": "code",
   "execution_count": 1,
   "metadata": {},
   "outputs": [],
   "source": [
    "import torch \n",
    "\n",
    "# data for the first few exercises\n",
    "x_tensor = torch.tensor([1, 2, 3, 4])\n",
    "y_tensor = torch.tensor([-0.5,0.5,1.5,2.5])\n"
   ]
  },
  {
   "cell_type": "code",
   "execution_count": null,
   "metadata": {},
   "outputs": [],
   "source": [
    "class LinModel(torch.nn.Module):\n",
    "\n",
    "    def __init__(self):\n",
    "        super().__init__()\n",
    "        self.layer1 = \n",
    "        ...\n",
    "\n",
    "    def forward(self, x): # We implement the forward pass\n",
    "        x = x.view(-1, 1)\n",
    "        x = YOUR DEPENDENCE ON x\n",
    "        x = YOUR DEPENDENCE ON x\n",
    "        ...\n",
    "        x = YOUR DEPENDENCE ON x\n",
    "        return x.flatten()"
   ]
  }
 ],
 "metadata": {
  "kernelspec": {
   "display_name": "Python (myenv)",
   "language": "python",
   "name": "myenv"
  },
  "language_info": {
   "codemirror_mode": {
    "name": "ipython",
    "version": 3
   },
   "file_extension": ".py",
   "mimetype": "text/x-python",
   "name": "python",
   "nbconvert_exporter": "python",
   "pygments_lexer": "ipython3",
   "version": "3.12.3"
  }
 },
 "nbformat": 4,
 "nbformat_minor": 2
}
