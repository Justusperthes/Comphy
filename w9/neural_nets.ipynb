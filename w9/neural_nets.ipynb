{
 "cells": [
  {
   "cell_type": "code",
   "execution_count": 4,
   "metadata": {},
   "outputs": [],
   "source": [
    "import numpy as np\n",
    "import matplotlib.pyplot as plt\n",
    "import torch"
   ]
  },
  {
   "cell_type": "markdown",
   "metadata": {},
   "source": [
    "ex48"
   ]
  },
  {
   "cell_type": "code",
   "execution_count": 5,
   "metadata": {},
   "outputs": [],
   "source": [
    "# data for the first few exercises\n",
    "x_tensor = torch.tensor([1, 2, 3, 4])\n",
    "y_tensor = torch.tensor([-0.5,0.5,1.5,2.5])\n"
   ]
  },
  {
   "cell_type": "code",
   "execution_count": 6,
   "metadata": {},
   "outputs": [
    {
     "name": "stdout",
     "output_type": "stream",
     "text": [
      "Parameter containing:\n",
      "tensor(1., requires_grad=True)\n",
      "A = 1.0\n"
     ]
    }
   ],
   "source": [
    "class LinModel(torch.nn.Module):\n",
    "\n",
    "    def __init__(self,A=1):\n",
    "        super().__init__()\n",
    "        self.A = torch.nn.Parameter(torch.tensor(float(A)))\n",
    "\n",
    "    def forward(self, x): # We implement the forward pass\n",
    "        return self.A * x\n",
    "    \n",
    "A = 1\n",
    "\n",
    "model = LinModel(A=A)\n",
    "model(1)\n",
    "\n",
    "for parameter in model.parameters():\n",
    "    print(parameter)\n",
    "\n",
    "for name, parameter in model.named_parameters():\n",
    "    print(name, '=', parameter.data.item())"
   ]
  },
  {
   "cell_type": "code",
   "execution_count": 7,
   "metadata": {},
   "outputs": [
    {
     "name": "stdout",
     "output_type": "stream",
     "text": [
      "Step 0, Loss: 2.25\n",
      "Step 500, Loss: 0.3750005066394806\n",
      "Step 1000, Loss: 0.3749999701976776\n",
      "Step 1500, Loss: 0.3749999701976776\n",
      "Step 2000, Loss: 0.3749999701976776\n",
      "Step 2500, Loss: 0.3749999701976776\n",
      "Step 3000, Loss: 0.3749999701976776\n",
      "Step 3500, Loss: 0.3749999701976776\n",
      "Step 4000, Loss: 0.3749999701976776\n",
      "Step 4500, Loss: 0.3749999701976776\n",
      "Step 5000, Loss: 0.3749999701976776\n",
      "Step 5500, Loss: 0.3749999701976776\n",
      "Step 6000, Loss: 0.3749999701976776\n",
      "Step 6500, Loss: 0.3749999701976776\n",
      "Step 7000, Loss: 0.3749999701976776\n",
      "Step 7500, Loss: 0.3749999701976776\n",
      "Step 8000, Loss: 0.3749999701976776\n",
      "Step 8500, Loss: 0.3749999701976776\n",
      "Step 9000, Loss: 0.3749999701976776\n",
      "Step 9500, Loss: 0.3749999701976776\n",
      "A = 0.5000019669532776\n"
     ]
    }
   ],
   "source": [
    "steps = 10000\n",
    "\n",
    "optimizer = torch.optim.SGD(model.parameters(), lr=0.001)\n",
    "\n",
    "for step in range(steps):\n",
    "    y_pred = model(x_tensor)\n",
    "    loss = torch.mean((y_pred - y_tensor) ** 2)\n",
    "\n",
    "    optimizer.zero_grad()\n",
    "    loss.backward()\n",
    "    optimizer.step()\n",
    "\n",
    "    if step % 500 == 0:\n",
    "        print(f'Step {step}, Loss: {loss.item()}')\n",
    "\n",
    "for name, parameter in model.named_parameters():\n",
    "    print(name, '=', parameter.data.item())"
   ]
  },
  {
   "cell_type": "code",
   "execution_count": 8,
   "metadata": {},
   "outputs": [
    {
     "data": {
      "image/png": "[encoded data removed]",
      "text/plain": [
       "<Figure size 640x480 with 1 Axes>"
      ]
     },
     "metadata": {},
     "output_type": "display_data"
    }
   ],
   "source": [
    "A = 0.5\n",
    "def lin_func(x,A):\n",
    "    return A*x\n",
    "\n",
    "# Create a figure and an axes\n",
    "fig, ax = plt.subplots()\n",
    "xs = torch.linspace(-10, 10, 100, requires_grad=True)\n",
    "ys = lin_func(xs,A)\n",
    "yps = torch.autograd.grad(ys, xs, grad_outputs=torch.ones_like(xs))[0]\n",
    "\n",
    "with torch.no_grad():\n",
    "    ax.plot(xs, ys, label='$y(x)$')  # No conversion to numpy\n",
    "\n",
    "ax.set_xlabel(\"x\")\n",
    "ax.grid(True)\n",
    "ax.axhline(0, color='k')\n",
    "ax.axvline(0, color='k')\n",
    "ax.set_xlim([-2.5, 5])  # Set the y-axis limits\n",
    "ax.set_ylim([-2.5, 5])  # Set the y-axis limits\n",
    "ax.legend()\n",
    "\n",
    "# Plot data points\n",
    "plt.scatter(x_tensor, y_tensor, color='blue', label='Data points')\n",
    "\n",
    "plt.show()  # Display the plot"
   ]
  },
  {
   "cell_type": "code",
   "execution_count": 18,
   "metadata": {},
   "outputs": [
    {
     "name": "stdout",
     "output_type": "stream",
     "text": [
      "Parameter containing:\n",
      "tensor(0., requires_grad=True)\n",
      "Parameter containing:\n",
      "tensor(-1., requires_grad=True)\n",
      "A = 0.0\n",
      "b = -1.0\n",
      "Step 0, Loss: 5.25\n",
      "Step 500, Loss: 0.07019560784101486\n",
      "Step 1000, Loss: 0.05203142762184143\n",
      "Step 1500, Loss: 0.03856758773326874\n",
      "Step 2000, Loss: 0.028587706387043\n",
      "Step 2500, Loss: 0.021190237253904343\n",
      "Step 3000, Loss: 0.015706943348050117\n",
      "Step 3500, Loss: 0.01164258923381567\n",
      "Step 4000, Loss: 0.008629923686385155\n",
      "Step 4500, Loss: 0.00639681052416563\n",
      "Step 5000, Loss: 0.0047415741719305515\n",
      "Step 5500, Loss: 0.0035146214067935944\n",
      "Step 6000, Loss: 0.0026051716413348913\n",
      "Step 6500, Loss: 0.00193104799836874\n",
      "Step 7000, Loss: 0.0014313672436401248\n",
      "Step 7500, Loss: 0.001060999813489616\n",
      "Step 8000, Loss: 0.0007864611689001322\n",
      "Step 8500, Loss: 0.0005829609581269324\n",
      "Step 9000, Loss: 0.000432122586062178\n",
      "Step 9500, Loss: 0.00032031763112172484\n",
      "A = 0.9871755838394165\n",
      "b = -1.4622949361801147\n"
     ]
    }
   ],
   "source": [
    "class LinModel(torch.nn.Module):\n",
    "\n",
    "    def __init__(self,A=1, b=1):\n",
    "        super().__init__()\n",
    "        self.A = torch.nn.Parameter(torch.tensor(float(A)))\n",
    "        self.b = torch.nn.Parameter(torch.tensor(float(b)))\n",
    "\n",
    "    def forward(self, x): # We implement the forward pass\n",
    "        return self.A * x + self.b\n",
    "    \n",
    "A = 0\n",
    "b = -1\n",
    "\n",
    "model = LinModel(A=A, b=b)\n",
    "model(1)\n",
    "\n",
    "for parameter in model.parameters():\n",
    "    print(parameter)\n",
    "\n",
    "for name, parameter in model.named_parameters():\n",
    "    print(name, '=', parameter.data.item())\n",
    "\n",
    "steps = 10000\n",
    "\n",
    "optimizer = torch.optim.SGD(model.parameters(), lr=0.001)\n",
    "\n",
    "for step in range(steps):\n",
    "    y_pred = model(x_tensor)\n",
    "    loss = torch.mean((y_pred - y_tensor) ** 2)\n",
    "\n",
    "    optimizer.zero_grad()\n",
    "    loss.backward()\n",
    "    optimizer.step()\n",
    "\n",
    "    if step % 500 == 0:\n",
    "        print(f'Step {step}, Loss: {loss.item()}')\n",
    "\n",
    "for name, parameter in model.named_parameters():\n",
    "    print(name, '=', parameter.data.item())"
   ]
  },
  {
   "cell_type": "code",
   "execution_count": 20,
   "metadata": {},
   "outputs": [
    {
     "data": {
      "image/png": "[encoded data removed]",
      "text/plain": [
       "<Figure size 640x480 with 1 Axes>"
      ]
     },
     "metadata": {},
     "output_type": "display_data"
    }
   ],
   "source": [
    "A = 0.9871755838394165\n",
    "b = -1.4622949361801147\n",
    "def lin_func(x,A,b):\n",
    "    return A*x+b\n",
    "\n",
    "# Create a figure and an axes\n",
    "fig, ax = plt.subplots()\n",
    "xs = torch.linspace(-10, 10, 100, requires_grad=True)\n",
    "ys = lin_func(xs,A,b)\n",
    "yps = torch.autograd.grad(ys, xs, grad_outputs=torch.ones_like(xs))[0]\n",
    "\n",
    "with torch.no_grad():\n",
    "    ax.plot(xs, ys, label='$y(x)$')  # No conversion to numpy\n",
    "\n",
    "ax.set_xlabel(\"x\")\n",
    "ax.grid(True)\n",
    "ax.axhline(0, color='k')\n",
    "ax.axvline(0, color='k')\n",
    "ax.set_xlim([-2.5, 5])  # Set the y-axis limits\n",
    "ax.set_ylim([-2.5, 5])  # Set the y-axis limits\n",
    "ax.legend()\n",
    "\n",
    "# Plot data points\n",
    "plt.scatter(x_tensor, y_tensor, color='blue', label='Data points')\n",
    "\n",
    "plt.show()  # Display the plot"
   ]
  },
  {
   "cell_type": "markdown",
   "metadata": {},
   "source": [
    "4.4 Non-linear data"
   ]
  },
  {
   "cell_type": "code",
   "execution_count": 21,
   "metadata": {},
   "outputs": [],
   "source": [
    "# next data which is non-linear\n",
    "x_tensor = torch.tensor([1, 2, 3, 4])\n",
    "y_tensor = torch.tensor([1,1,1.5,2.5])"
   ]
  },
  {
   "cell_type": "code",
   "execution_count": 22,
   "metadata": {},
   "outputs": [
    {
     "name": "stdout",
     "output_type": "stream",
     "text": [
      "Parameter containing:\n",
      "tensor(0., requires_grad=True)\n",
      "Parameter containing:\n",
      "tensor(-1., requires_grad=True)\n",
      "A = 0.0\n",
      "b = -1.0\n",
      "Step 0, Loss: 6.625\n",
      "Step 500, Loss: 0.1784907430410385\n",
      "Step 1000, Loss: 0.14847642183303833\n",
      "Step 1500, Loss: 0.126228928565979\n",
      "Step 2000, Loss: 0.10973823070526123\n",
      "Step 2500, Loss: 0.09751472622156143\n",
      "Step 3000, Loss: 0.08845420181751251\n",
      "Step 3500, Loss: 0.08173821866512299\n",
      "Step 4000, Loss: 0.07676007598638535\n",
      "Step 4500, Loss: 0.07307007908821106\n",
      "Step 5000, Loss: 0.07033493369817734\n",
      "Step 5500, Loss: 0.0683075562119484\n",
      "Step 6000, Loss: 0.06680478155612946\n",
      "Step 6500, Loss: 0.06569083780050278\n",
      "Step 7000, Loss: 0.06486520916223526\n",
      "Step 7500, Loss: 0.06425317376852036\n",
      "Step 8000, Loss: 0.06379950046539307\n",
      "Step 8500, Loss: 0.06346326321363449\n",
      "Step 9000, Loss: 0.06321398168802261\n",
      "Step 9500, Loss: 0.06302926689386368\n",
      "A = 0.5164846181869507\n",
      "b = 0.20153392851352692\n"
     ]
    }
   ],
   "source": [
    "class LinModel(torch.nn.Module):\n",
    "\n",
    "    def __init__(self,A=1, b=1):\n",
    "        super().__init__()\n",
    "        self.A = torch.nn.Parameter(torch.tensor(float(A)))\n",
    "        self.b = torch.nn.Parameter(torch.tensor(float(b)))\n",
    "\n",
    "    def forward(self, x): # We implement the forward pass\n",
    "        return self.A * x + self.b\n",
    "    \n",
    "A = 0\n",
    "b = -1\n",
    "\n",
    "model = LinModel(A=A, b=b)\n",
    "model(1)\n",
    "\n",
    "for parameter in model.parameters():\n",
    "    print(parameter)\n",
    "\n",
    "for name, parameter in model.named_parameters():\n",
    "    print(name, '=', parameter.data.item())\n",
    "\n",
    "steps = 10000\n",
    "\n",
    "optimizer = torch.optim.SGD(model.parameters(), lr=0.001)\n",
    "\n",
    "for step in range(steps):\n",
    "    y_pred = model(x_tensor)\n",
    "    loss = torch.mean((y_pred - y_tensor) ** 2)\n",
    "\n",
    "    optimizer.zero_grad()\n",
    "    loss.backward()\n",
    "    optimizer.step()\n",
    "\n",
    "    if step % 500 == 0:\n",
    "        print(f'Step {step}, Loss: {loss.item()}')\n",
    "\n",
    "for name, parameter in model.named_parameters():\n",
    "    print(name, '=', parameter.data.item())"
   ]
  },
  {
   "cell_type": "code",
   "execution_count": 24,
   "metadata": {},
   "outputs": [
    {
     "data": {
      "image/png": "[encoded data removed]",
      "text/plain": [
       "<Figure size 640x480 with 1 Axes>"
      ]
     },
     "metadata": {},
     "output_type": "display_data"
    }
   ],
   "source": [
    "A = model.A.data.item()\n",
    "b = model.b.data.item()\n",
    "def lin_func(x,A,b):\n",
    "    return A*x+b\n",
    "\n",
    "# Create a figure and an axes\n",
    "fig, ax = plt.subplots()\n",
    "xs = torch.linspace(-10, 10, 100, requires_grad=True)\n",
    "ys = lin_func(xs,A,b)\n",
    "yps = torch.autograd.grad(ys, xs, grad_outputs=torch.ones_like(xs))[0]\n",
    "\n",
    "with torch.no_grad():\n",
    "    ax.plot(xs, ys, label='$y(x)$')  # No conversion to numpy\n",
    "\n",
    "ax.set_xlabel(\"x\")\n",
    "ax.grid(True)\n",
    "ax.axhline(0, color='k')\n",
    "ax.axvline(0, color='k')\n",
    "ax.set_xlim([-2.5, 5])  # Set the y-axis limits\n",
    "ax.set_ylim([-2.5, 5])  # Set the y-axis limits\n",
    "ax.legend()\n",
    "\n",
    "# Plot data points\n",
    "plt.scatter(x_tensor, y_tensor, color='blue', label='Data points')\n",
    "\n",
    "plt.show()  # Display the plot"
   ]
  }
 ],
 "metadata": {
  "kernelspec": {
   "display_name": "myenv",
   "language": "python",
   "name": "python3"
  },
  "language_info": {
   "codemirror_mode": {
    "name": "ipython",
    "version": 3
   },
   "file_extension": ".py",
   "mimetype": "text/x-python",
   "name": "python",
   "nbconvert_exporter": "python",
   "pygments_lexer": "ipython3",
   "version": "3.10.12"
  }
 },
 "nbformat": 4,
 "nbformat_minor": 2
}
