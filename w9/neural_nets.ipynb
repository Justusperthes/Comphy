{
 "cells": [
  {
   "cell_type": "code",
   "execution_count": 4,
   "metadata": {},
   "outputs": [],
   "source": [
    "import numpy as np\n",
    "import matplotlib.pyplot as plt\n",
    "import torch"
   ]
  },
  {
   "cell_type": "markdown",
   "metadata": {},
   "source": [
    "ex48"
   ]
  },
  {
   "cell_type": "code",
   "execution_count": 5,
   "metadata": {},
   "outputs": [],
   "source": [
    "# data for the first few exercises\n",
    "x_tensor = torch.tensor([1, 2, 3, 4])\n",
    "y_tensor = torch.tensor([-0.5,0.5,1.5,2.5])\n"
   ]
  },
  {
   "cell_type": "code",
   "execution_count": 6,
   "metadata": {},
   "outputs": [
    {
     "name": "stdout",
     "output_type": "stream",
     "text": [
      "Parameter containing:\n",
      "tensor(1., requires_grad=True)\n",
      "A = 1.0\n"
     ]
    }
   ],
   "source": [
    "class LinModel(torch.nn.Module):\n",
    "\n",
    "    def __init__(self,A=1):\n",
    "        super().__init__()\n",
    "        self.A = torch.nn.Parameter(torch.tensor(float(A)))\n",
    "\n",
    "    def forward(self, x): # We implement the forward pass\n",
    "        return self.A * x\n",
    "    \n",
    "A = 1\n",
    "\n",
    "model = LinModel(A=A)\n",
    "model(1)\n",
    "\n",
    "for parameter in model.parameters():\n",
    "    print(parameter)\n",
    "\n",
    "for name, parameter in model.named_parameters():\n",
    "    print(name, '=', parameter.data.item())"
   ]
  },
  {
   "cell_type": "code",
   "execution_count": 7,
   "metadata": {},
   "outputs": [
    {
     "name": "stdout",
     "output_type": "stream",
     "text": [
      "Step 0, Loss: 2.25\n",
      "Step 500, Loss: 0.3750005066394806\n",
      "Step 1000, Loss: 0.3749999701976776\n",
      "Step 1500, Loss: 0.3749999701976776\n",
      "Step 2000, Loss: 0.3749999701976776\n",
      "Step 2500, Loss: 0.3749999701976776\n",
      "Step 3000, Loss: 0.3749999701976776\n",
      "Step 3500, Loss: 0.3749999701976776\n",
      "Step 4000, Loss: 0.3749999701976776\n",
      "Step 4500, Loss: 0.3749999701976776\n",
      "Step 5000, Loss: 0.3749999701976776\n",
      "Step 5500, Loss: 0.3749999701976776\n",
      "Step 6000, Loss: 0.3749999701976776\n",
      "Step 6500, Loss: 0.3749999701976776\n",
      "Step 7000, Loss: 0.3749999701976776\n",
      "Step 7500, Loss: 0.3749999701976776\n",
      "Step 8000, Loss: 0.3749999701976776\n",
      "Step 8500, Loss: 0.3749999701976776\n",
      "Step 9000, Loss: 0.3749999701976776\n",
      "Step 9500, Loss: 0.3749999701976776\n",
      "A = 0.5000019669532776\n"
     ]
    }
   ],
   "source": [
    "steps = 10000\n",
    "\n",
    "optimizer = torch.optim.SGD(model.parameters(), lr=0.001)\n",
    "\n",
    "for step in range(steps):\n",
    "    y_pred = model(x_tensor)\n",
    "    loss = torch.mean((y_pred - y_tensor) ** 2)\n",
    "\n",
    "    optimizer.zero_grad()\n",
    "    loss.backward()\n",
    "    optimizer.step()\n",
    "\n",
    "    if step % 500 == 0:\n",
    "        print(f'Step {step}, Loss: {loss.item()}')\n",
    "\n",
    "for name, parameter in model.named_parameters():\n",
    "    print(name, '=', parameter.data.item())"
   ]
  },
  {
   "cell_type": "code",
   "execution_count": 8,
   "metadata": {},
   "outputs": [
    {
     "data": {
      "image/png": "[encoded data removed]",
      "text/plain": [
       "<Figure size 640x480 with 1 Axes>"
      ]
     },
     "metadata": {},
     "output_type": "display_data"
    }
   ],
   "source": [
    "A = 0.5\n",
    "def lin_func(x,A):\n",
    "    return A*x\n",
    "\n",
    "# Create a figure and an axes\n",
    "fig, ax = plt.subplots()\n",
    "xs = torch.linspace(-10, 10, 100, requires_grad=True)\n",
    "ys = lin_func(xs,A)\n",
    "yps = torch.autograd.grad(ys, xs, grad_outputs=torch.ones_like(xs))[0]\n",
    "\n",
    "with torch.no_grad():\n",
    "    ax.plot(xs, ys, label='$y(x)$')  # No conversion to numpy\n",
    "\n",
    "ax.set_xlabel(\"x\")\n",
    "ax.grid(True)\n",
    "ax.axhline(0, color='k')\n",
    "ax.axvline(0, color='k')\n",
    "ax.set_xlim([-2.5, 5])  # Set the y-axis limits\n",
    "ax.set_ylim([-2.5, 5])  # Set the y-axis limits\n",
    "ax.legend()\n",
    "\n",
    "# Plot data points\n",
    "plt.scatter(x_tensor, y_tensor, color='blue', label='Data points')\n",
    "\n",
    "plt.show()  # Display the plot"
   ]
  },
  {
   "cell_type": "code",
   "execution_count": 18,
   "metadata": {},
   "outputs": [
    {
     "name": "stdout",
     "output_type": "stream",
     "text": [
      "Parameter containing:\n",
      "tensor(0., requires_grad=True)\n",
      "Parameter containing:\n",
      "tensor(-1., requires_grad=True)\n",
      "A = 0.0\n",
      "b = -1.0\n",
      "Step 0, Loss: 5.25\n",
      "Step 500, Loss: 0.07019560784101486\n",
      "Step 1000, Loss: 0.05203142762184143\n",
      "Step 1500, Loss: 0.03856758773326874\n",
      "Step 2000, Loss: 0.028587706387043\n",
      "Step 2500, Loss: 0.021190237253904343\n",
      "Step 3000, Loss: 0.015706943348050117\n",
      "Step 3500, Loss: 0.01164258923381567\n",
      "Step 4000, Loss: 0.008629923686385155\n",
      "Step 4500, Loss: 0.00639681052416563\n",
      "Step 5000, Loss: 0.0047415741719305515\n",
      "Step 5500, Loss: 0.0035146214067935944\n",
      "Step 6000, Loss: 0.0026051716413348913\n",
      "Step 6500, Loss: 0.00193104799836874\n",
      "Step 7000, Loss: 0.0014313672436401248\n",
      "Step 7500, Loss: 0.001060999813489616\n",
      "Step 8000, Loss: 0.0007864611689001322\n",
      "Step 8500, Loss: 0.0005829609581269324\n",
      "Step 9000, Loss: 0.000432122586062178\n",
      "Step 9500, Loss: 0.00032031763112172484\n",
      "A = 0.9871755838394165\n",
      "b = -1.4622949361801147\n"
     ]
    }
   ],
   "source": [
    "class LinModel(torch.nn.Module):\n",
    "\n",
    "    def __init__(self,A=1, b=1):\n",
    "        super().__init__()\n",
    "        self.A = torch.nn.Parameter(torch.tensor(float(A)))\n",
    "        self.b = torch.nn.Parameter(torch.tensor(float(b)))\n",
    "\n",
    "    def forward(self, x): # We implement the forward pass\n",
    "        return self.A * x + self.b\n",
    "    \n",
    "A = 0\n",
    "b = -1\n",
    "\n",
    "model = LinModel(A=A, b=b)\n",
    "model(1)\n",
    "\n",
    "for parameter in model.parameters():\n",
    "    print(parameter)\n",
    "\n",
    "for name, parameter in model.named_parameters():\n",
    "    print(name, '=', parameter.data.item())\n",
    "\n",
    "steps = 10000\n",
    "\n",
    "optimizer = torch.optim.SGD(model.parameters(), lr=0.001)\n",
    "\n",
    "for step in range(steps):\n",
    "    y_pred = model(x_tensor)\n",
    "    loss = torch.mean((y_pred - y_tensor) ** 2)\n",
    "\n",
    "    optimizer.zero_grad()\n",
    "    loss.backward()\n",
    "    optimizer.step()\n",
    "\n",
    "    if step % 500 == 0:\n",
    "        print(f'Step {step}, Loss: {loss.item()}')\n",
    "\n",
    "for name, parameter in model.named_parameters():\n",
    "    print(name, '=', parameter.data.item())"
   ]
  },
  {
   "cell_type": "code",
   "execution_count": 20,
   "metadata": {},
   "outputs": [
    {
     "data": {
      "image/png": "[encoded data removed]",
      "text/plain": [
       "<Figure size 640x480 with 1 Axes>"
      ]
     },
     "metadata": {},
     "output_type": "display_data"
    }
   ],
   "source": [
    "A = 0.9871755838394165\n",
    "b = -1.4622949361801147\n",
    "def lin_func(x,A,b):\n",
    "    return A*x+b\n",
    "\n",
    "# Create a figure and an axes\n",
    "fig, ax = plt.subplots()\n",
    "xs = torch.linspace(-10, 10, 100, requires_grad=True)\n",
    "ys = lin_func(xs,A,b)\n",
    "yps = torch.autograd.grad(ys, xs, grad_outputs=torch.ones_like(xs))[0]\n",
    "\n",
    "with torch.no_grad():\n",
    "    ax.plot(xs, ys, label='$y(x)$')  # No conversion to numpy\n",
    "\n",
    "ax.set_xlabel(\"x\")\n",
    "ax.grid(True)\n",
    "ax.axhline(0, color='k')\n",
    "ax.axvline(0, color='k')\n",
    "ax.set_xlim([-2.5, 5])  # Set the y-axis limits\n",
    "ax.set_ylim([-2.5, 5])  # Set the y-axis limits\n",
    "ax.legend()\n",
    "\n",
    "# Plot data points\n",
    "plt.scatter(x_tensor, y_tensor, color='blue', label='Data points')\n",
    "\n",
    "plt.show()  # Display the plot"
   ]
  },
  {
   "cell_type": "markdown",
   "metadata": {},
   "source": [
    "4.4 Non-linear data"
   ]
  },
  {
   "cell_type": "code",
   "execution_count": 21,
   "metadata": {},
   "outputs": [],
   "source": [
    "# next data which is non-linear\n",
    "x_tensor = torch.tensor([1, 2, 3, 4])\n",
    "y_tensor = torch.tensor([1,1,1.5,2.5])"
   ]
  },
  {
   "cell_type": "code",
   "execution_count": 83,
   "metadata": {},
   "outputs": [
    {
     "name": "stdout",
     "output_type": "stream",
     "text": [
      "Parameter containing:\n",
      "tensor(0., requires_grad=True)\n",
      "Parameter containing:\n",
      "tensor(-1., requires_grad=True)\n",
      "A = 0.0\n",
      "b = -1.0\n",
      "Step 0, Loss: 6.625\n",
      "Step 500, Loss: 0.1784907430410385\n",
      "Step 1000, Loss: 0.14847642183303833\n",
      "Step 1500, Loss: 0.126228928565979\n",
      "Step 2000, Loss: 0.10973823070526123\n",
      "Step 2500, Loss: 0.09751472622156143\n",
      "Step 3000, Loss: 0.08845420181751251\n",
      "Step 3500, Loss: 0.08173821866512299\n",
      "Step 4000, Loss: 0.07676007598638535\n",
      "Step 4500, Loss: 0.07307007908821106\n",
      "Step 5000, Loss: 0.07033493369817734\n",
      "Step 5500, Loss: 0.0683075562119484\n",
      "Step 6000, Loss: 0.06680478155612946\n",
      "Step 6500, Loss: 0.06569083780050278\n",
      "Step 7000, Loss: 0.06486520916223526\n",
      "Step 7500, Loss: 0.06425317376852036\n",
      "Step 8000, Loss: 0.06379950046539307\n",
      "Step 8500, Loss: 0.06346326321363449\n",
      "Step 9000, Loss: 0.06321398168802261\n",
      "Step 9500, Loss: 0.06302926689386368\n",
      "A = 0.5164846181869507\n",
      "b = 0.20153392851352692\n"
     ]
    }
   ],
   "source": [
    "class LinModel(torch.nn.Module):\n",
    "\n",
    "    def __init__(self,A=1, b=1):\n",
    "        super().__init__()\n",
    "        self.A = torch.nn.Parameter(torch.tensor(float(A)))\n",
    "        self.b = torch.nn.Parameter(torch.tensor(float(b)))\n",
    "\n",
    "    def forward(self, x): # We implement the forward pass\n",
    "        return self.A * x + self.b\n",
    "    \n",
    "A = 0\n",
    "b = -1\n",
    "\n",
    "model = LinModel(A=A, b=b)\n",
    "model(1)\n",
    "\n",
    "for parameter in model.parameters():\n",
    "    print(parameter)\n",
    "\n",
    "for name, parameter in model.named_parameters():\n",
    "    print(name, '=', parameter.data.item())\n",
    "\n",
    "steps = 10000\n",
    "\n",
    "optimizer = torch.optim.SGD(model.parameters(), lr=0.001)\n",
    "\n",
    "for step in range(steps):\n",
    "    y_pred = model(x_tensor)\n",
    "    loss = torch.mean((y_pred - y_tensor) ** 2)\n",
    "\n",
    "    optimizer.zero_grad()\n",
    "    loss.backward()\n",
    "    optimizer.step()\n",
    "\n",
    "    if step % 500 == 0:\n",
    "        print(f'Step {step}, Loss: {loss.item()}')\n",
    "\n",
    "for name, parameter in model.named_parameters():\n",
    "    print(name, '=', parameter.data.item())\n",
    "\n",
    "A_plt = model.A.data.item()\n",
    "b_plt = model.b.data.item()"
   ]
  },
  {
   "cell_type": "code",
   "execution_count": 84,
   "metadata": {},
   "outputs": [
    {
     "data": {
      "image/png": "[encoded data removed]",
      "text/plain": [
       "<Figure size 640x480 with 1 Axes>"
      ]
     },
     "metadata": {},
     "output_type": "display_data"
    }
   ],
   "source": [
    "# Create a figure and an axes\n",
    "fig, ax = plt.subplots()\n",
    "xs = torch.linspace(-10, 10, 100, requires_grad=True)\n",
    "ys = lin_func(xs,A_plt,b_plt)\n",
    "yps = torch.autograd.grad(ys, xs, grad_outputs=torch.ones_like(xs))[0]\n",
    "\n",
    "with torch.no_grad():\n",
    "    ax.plot(xs, ys, label='$y(x)$')  # No conversion to numpy\n",
    "\n",
    "ax.set_xlabel(\"x\")\n",
    "ax.grid(True)\n",
    "ax.axhline(0, color='k')\n",
    "ax.axvline(0, color='k')\n",
    "ax.set_xlim([-2.5, 5])  # Set the y-axis limits\n",
    "ax.set_ylim([-2.5, 5])  # Set the y-axis limits\n",
    "ax.legend()\n",
    "\n",
    "# Plot data points\n",
    "plt.scatter(x_tensor, y_tensor, color='blue', label='Data points')\n",
    "\n",
    "plt.show()  # Display the plot"
   ]
  },
  {
   "cell_type": "markdown",
   "metadata": {},
   "source": [
    "4.5 Linear model + ReLU"
   ]
  },
  {
   "cell_type": "code",
   "execution_count": 95,
   "metadata": {},
   "outputs": [
    {
     "name": "stdout",
     "output_type": "stream",
     "text": [
      "Parameter containing:\n",
      "tensor(1., requires_grad=True)\n",
      "Parameter containing:\n",
      "tensor(0., requires_grad=True)\n",
      "w = 1.0\n",
      "b = 0.0\n",
      "Step 0, Loss: 1.375\n",
      "Step 500, Loss: 0.08004893362522125\n",
      "Step 1000, Loss: 0.07550784200429916\n",
      "Step 1500, Loss: 0.07214190810918808\n",
      "Step 2000, Loss: 0.0696469247341156\n",
      "Step 2500, Loss: 0.06779757887125015\n",
      "Step 3000, Loss: 0.06642673909664154\n",
      "Step 3500, Loss: 0.06541063636541367\n",
      "Step 4000, Loss: 0.06465749442577362\n",
      "Step 4500, Loss: 0.06409918516874313\n",
      "Step 5000, Loss: 0.06368540972471237\n",
      "Step 5500, Loss: 0.06337867677211761\n",
      "Step 6000, Loss: 0.06315132975578308\n",
      "Step 6500, Loss: 0.06298279762268066\n",
      "Step 7000, Loss: 0.06285785138607025\n",
      "Step 7500, Loss: 0.06276526302099228\n",
      "Step 8000, Loss: 0.06269662827253342\n",
      "Step 8500, Loss: 0.06264574825763702\n",
      "Step 9000, Loss: 0.0626080334186554\n",
      "Step 9500, Loss: 0.06258010864257812\n",
      "w = 0.5064135193824768\n",
      "b = 0.2311452478170395\n"
     ]
    }
   ],
   "source": [
    "# basically we first compute h as in the previous examples, and then we put h through a new function, the ReLU(h), which outputs 1 if h>1, o/w 0.\n",
    "\n",
    "class NeuronModelWithReLU(torch.nn.Module):\n",
    "    def __init__(self, w=1.0, b=0.0):\n",
    "        super().__init__()\n",
    "        # Define the linear parameters\n",
    "        self.w = torch.nn.Parameter(torch.tensor(float(w)))  # Weight\n",
    "        self.b = torch.nn.Parameter(torch.tensor(float(b)))  # Bias\n",
    "\n",
    "    def forward(self, x):\n",
    "        # Linear transformation\n",
    "        h = self.w * x + self.b\n",
    "        # ReLU activation\n",
    "        y = torch.relu(h)\n",
    "        return y\n",
    "    \n",
    "w = 1\n",
    "b = 0\n",
    "\n",
    "model = NeuronModelWithReLU(w=w, b=b)\n",
    "model(1)\n",
    "\n",
    "for parameter in model.parameters():\n",
    "    print(parameter)\n",
    "\n",
    "for name, parameter in model.named_parameters():\n",
    "    print(name, '=', parameter.data.item())\n",
    "\n",
    "steps = 10000\n",
    "\n",
    "optimizer = torch.optim.SGD(model.parameters(), lr=0.001)\n",
    "\n",
    "for step in range(steps):\n",
    "    y_pred = model(x_tensor)\n",
    "    loss = torch.mean((y_pred - y_tensor) ** 2)\n",
    "\n",
    "    optimizer.zero_grad()\n",
    "    loss.backward()\n",
    "    optimizer.step()\n",
    "\n",
    "    if step % 500 == 0:\n",
    "        print(f'Step {step}, Loss: {loss.item()}')\n",
    "\n",
    "for name, parameter in model.named_parameters():\n",
    "    print(name, '=', parameter.data.item())\n",
    "\n",
    "A_plt = model.w.data.item()\n",
    "b_plt = model.b.data.item()"
   ]
  },
  {
   "cell_type": "code",
   "execution_count": 96,
   "metadata": {},
   "outputs": [
    {
     "data": {
      "image/png": "[encoded data removed]",
      "text/plain": [
       "<Figure size 640x480 with 1 Axes>"
      ]
     },
     "metadata": {},
     "output_type": "display_data"
    }
   ],
   "source": [
    "# Create a figure and an axes\n",
    "fig, ax = plt.subplots()\n",
    "xs = torch.linspace(-10, 10, 100, requires_grad=True)\n",
    "ys = lin_func(xs,A_plt,b_plt)\n",
    "yps = torch.autograd.grad(ys, xs, grad_outputs=torch.ones_like(xs))[0]\n",
    "\n",
    "with torch.no_grad():\n",
    "    ax.plot(xs, ys, label='$y(x)$')\n",
    "\n",
    "ax.set_xlabel(\"x\")\n",
    "ax.grid(True)\n",
    "ax.axhline(0, color='k')\n",
    "ax.axvline(0, color='k')\n",
    "ax.set_xlim([-2.5, 5])\n",
    "ax.set_ylim([-2.5, 5])\n",
    "ax.legend()\n",
    "\n",
    "# Plot data points\n",
    "plt.scatter(x_tensor, y_tensor, color='blue', label='Data points')\n",
    "\n",
    "plt.show()  # Display the plot"
   ]
  },
  {
   "cell_type": "markdown",
   "metadata": {},
   "source": [
    "question for TØ: Am I doing this right? I use the parameters A,b that was outputted after training my LinearModel as the weight and bias parameter. I then feed h=w*x+b into ReLU.(h)"
   ]
  },
  {
   "cell_type": "markdown",
   "metadata": {},
   "source": [
    "4.6 (Linear model + ReLU) × 2"
   ]
  },
  {
   "cell_type": "code",
   "execution_count": 98,
   "metadata": {},
   "outputs": [
    {
     "name": "stdout",
     "output_type": "stream",
     "text": [
      "Parameter containing:\n",
      "tensor(1., requires_grad=True)\n",
      "Parameter containing:\n",
      "tensor(0., requires_grad=True)\n",
      "Parameter containing:\n",
      "tensor(1., requires_grad=True)\n",
      "Parameter containing:\n",
      "tensor(0., requires_grad=True)\n",
      "w1 = 1.0\n",
      "b1 = 0.0\n",
      "w2 = 1.0\n",
      "b2 = 0.0\n",
      "Step 0, Loss: 1.375\n",
      "Step 500, Loss: 0.07779781520366669\n",
      "Step 1000, Loss: 0.07212861627340317\n",
      "Step 1500, Loss: 0.06863006204366684\n",
      "Step 2000, Loss: 0.06643667072057724\n",
      "Step 2500, Loss: 0.06504503637552261\n",
      "Step 3000, Loss: 0.06415392458438873\n",
      "Step 3500, Loss: 0.06357923150062561\n",
      "Step 4000, Loss: 0.0632065162062645\n",
      "Step 4500, Loss: 0.06296371668577194\n",
      "Step 5000, Loss: 0.06280498206615448\n",
      "Step 5500, Loss: 0.06270091980695724\n",
      "Step 6000, Loss: 0.0626324936747551\n",
      "Step 6500, Loss: 0.06258752197027206\n",
      "Step 7000, Loss: 0.06255784630775452\n",
      "Step 7500, Loss: 0.062538281083107\n",
      "Step 8000, Loss: 0.06252531707286835\n",
      "Step 8500, Loss: 0.06251675635576248\n",
      "Step 9000, Loss: 0.06251111626625061\n",
      "Step 9500, Loss: 0.06250736117362976\n",
      "w1 = 0.7039342522621155\n",
      "b1 = 0.11318012326955795\n",
      "w2 = 0.7129329442977905\n",
      "b2 = 0.16391189396381378\n"
     ]
    }
   ],
   "source": [
    "# basically we first compute h as in the previous examples, and then we put h through a new function, the ReLU(h), which outputs 1 if h>1, o/w 0.\n",
    "\n",
    "class NeuronModelWithReLUx2(torch.nn.Module):\n",
    "    def __init__(self, w1=1.0, b1=0.0, w2=1.0, b2=0.0):\n",
    "        super().__init__()\n",
    "        # Define the linear parameters\n",
    "        self.w1 = torch.nn.Parameter(torch.tensor(float(w1)))  # Weight1\n",
    "        self.b1 = torch.nn.Parameter(torch.tensor(float(b1)))  # Bias1\n",
    "        self.w2 = torch.nn.Parameter(torch.tensor(float(w2)))  # Weight2\n",
    "        self.b2 = torch.nn.Parameter(torch.tensor(float(b2)))  # Bias2\n",
    "\n",
    "    def forward(self, x):\n",
    "        # Linear transformation\n",
    "        h1 = self.w1 * x + self.b1\n",
    "        # ReLU activation\n",
    "        a1 = torch.relu(h1)\n",
    "        # Linear transformation\n",
    "        h2 = self.w2 * a1 + self.b2\n",
    "        # ReLU activation\n",
    "        y = torch.relu(h2)\n",
    "\n",
    "        return y\n",
    "    \n",
    "w = 1\n",
    "b = 0\n",
    "\n",
    "model = NeuronModelWithReLUx2(w1=w, b1=b)\n",
    "model(1)\n",
    "\n",
    "for parameter in model.parameters():\n",
    "    print(parameter)\n",
    "\n",
    "for name, parameter in model.named_parameters():\n",
    "    print(name, '=', parameter.data.item())\n",
    "\n",
    "steps = 10000\n",
    "\n",
    "optimizer = torch.optim.SGD(model.parameters(), lr=0.001)\n",
    "\n",
    "for step in range(steps):\n",
    "    y_pred = model(x_tensor)\n",
    "    loss = torch.mean((y_pred - y_tensor) ** 2)\n",
    "\n",
    "    optimizer.zero_grad()\n",
    "    loss.backward()\n",
    "    optimizer.step()\n",
    "\n",
    "    if step % 500 == 0:\n",
    "        print(f'Step {step}, Loss: {loss.item()}')\n",
    "\n",
    "for name, parameter in model.named_parameters():\n",
    "    print(name, '=', parameter.data.item())\n",
    "\n",
    "A_plt = model.w2.data.item()\n",
    "b_plt = model.b2.data.item()"
   ]
  },
  {
   "cell_type": "code",
   "execution_count": 100,
   "metadata": {},
   "outputs": [
    {
     "data": {
      "image/png": "[encoded data removed]",
      "text/plain": [
       "<Figure size 640x480 with 1 Axes>"
      ]
     },
     "metadata": {},
     "output_type": "display_data"
    }
   ],
   "source": [
    "# Create a figure and an axes\n",
    "fig, ax = plt.subplots()\n",
    "xs = torch.linspace(-10, 10, 100, requires_grad=True)\n",
    "ys = lin_func(xs,A_plt,b_plt)\n",
    "yps = torch.autograd.grad(ys, xs, grad_outputs=torch.ones_like(xs))[0]\n",
    "\n",
    "with torch.no_grad():\n",
    "    ax.plot(xs, ys, label='$y(x)$')  # No conversion to numpy\n",
    "\n",
    "ax.set_xlabel(\"x\")\n",
    "ax.grid(True)\n",
    "ax.axhline(0, color='k')\n",
    "ax.axvline(0, color='k')\n",
    "ax.set_xlim([-2.5, 5])\n",
    "ax.set_ylim([-2.5, 5])\n",
    "ax.legend()\n",
    "\n",
    "# Plot data points\n",
    "plt.scatter(x_tensor, y_tensor, color='blue', label='Data points')\n",
    "\n",
    "plt.show()  # Display the plot"
   ]
  },
  {
   "cell_type": "markdown",
   "metadata": {},
   "source": [
    "TØ: burde den ikke være non-linear?"
   ]
  },
  {
   "cell_type": "markdown",
   "metadata": {},
   "source": [
    "4.7 Linear model + ReLU + Linear model"
   ]
  },
  {
   "cell_type": "code",
   "execution_count": 101,
   "metadata": {},
   "outputs": [
    {
     "name": "stdout",
     "output_type": "stream",
     "text": [
      "Parameter containing:\n",
      "tensor(1., requires_grad=True)\n",
      "Parameter containing:\n",
      "tensor(0., requires_grad=True)\n",
      "Parameter containing:\n",
      "tensor(1., requires_grad=True)\n",
      "Parameter containing:\n",
      "tensor(0., requires_grad=True)\n",
      "w1 = 1.0\n",
      "b1 = 0.0\n",
      "w2 = 1.0\n",
      "b2 = 0.0\n",
      "Step 0, Loss: 1.375\n",
      "Step 500, Loss: 0.07779781520366669\n",
      "Step 1000, Loss: 0.07212861627340317\n",
      "Step 1500, Loss: 0.06863006204366684\n",
      "Step 2000, Loss: 0.06643667072057724\n",
      "Step 2500, Loss: 0.06504503637552261\n",
      "Step 3000, Loss: 0.06415392458438873\n",
      "Step 3500, Loss: 0.06357923150062561\n",
      "Step 4000, Loss: 0.0632065162062645\n",
      "Step 4500, Loss: 0.06296371668577194\n",
      "Step 5000, Loss: 0.06280498206615448\n",
      "Step 5500, Loss: 0.06270091980695724\n",
      "Step 6000, Loss: 0.0626324936747551\n",
      "Step 6500, Loss: 0.06258752197027206\n",
      "Step 7000, Loss: 0.06255784630775452\n",
      "Step 7500, Loss: 0.062538281083107\n",
      "Step 8000, Loss: 0.06252531707286835\n",
      "Step 8500, Loss: 0.06251675635576248\n",
      "Step 9000, Loss: 0.06251111626625061\n",
      "Step 9500, Loss: 0.06250736117362976\n",
      "w1 = 0.7039342522621155\n",
      "b1 = 0.11318012326955795\n",
      "w2 = 0.7129329442977905\n",
      "b2 = 0.16391189396381378\n"
     ]
    }
   ],
   "source": [
    "# basically we first compute h as in the previous examples, and then we put h through a new function, the ReLU(h), which outputs 1 if h>1, o/w 0.\n",
    "\n",
    "class NeuronModelWithReLuAndAnotherLinear(torch.nn.Module):\n",
    "    def __init__(self, w1=1.0, b1=0.0, w2=1.0, b2=0.0):\n",
    "        super().__init__()\n",
    "        # Define the linear parameters\n",
    "        self.w1 = torch.nn.Parameter(torch.tensor(float(w1)))  # Weight1\n",
    "        self.b1 = torch.nn.Parameter(torch.tensor(float(b1)))  # Bias1\n",
    "        self.w2 = torch.nn.Parameter(torch.tensor(float(w2)))  # Weight2\n",
    "        self.b2 = torch.nn.Parameter(torch.tensor(float(b2)))  # Bias1\n",
    "\n",
    "    def forward(self, x):\n",
    "        # Linear transformation\n",
    "        h1 = self.w1 * x + self.b1\n",
    "        # ReLU activation\n",
    "        a1 = torch.relu(h1)\n",
    "        # Linear transformation\n",
    "        y = self.w2 * a1 + self.b2\n",
    "\n",
    "        return y\n",
    "    \n",
    "# Initialize the model with some starting values for w and b\n",
    "w = 1.0\n",
    "b = 0.0\n",
    "model = NeuronModelWithReLuAndAnotherLinear(w1=w, b1=b)\n",
    "model(1)\n",
    "\n",
    "for parameter in model.parameters():\n",
    "    print(parameter)\n",
    "\n",
    "for name, parameter in model.named_parameters():\n",
    "    print(name, '=', parameter.data.item())\n",
    "\n",
    "steps = 10000\n",
    "\n",
    "optimizer = torch.optim.SGD(model.parameters(), lr=0.001)\n",
    "\n",
    "for step in range(steps):\n",
    "    y_pred = model(x_tensor)\n",
    "    loss = torch.mean((y_pred - y_tensor) ** 2)\n",
    "\n",
    "    optimizer.zero_grad()\n",
    "    loss.backward()\n",
    "    optimizer.step()\n",
    "\n",
    "    if step % 500 == 0:\n",
    "        print(f'Step {step}, Loss: {loss.item()}')\n",
    "\n",
    "for name, parameter in model.named_parameters():\n",
    "    print(name, '=', parameter.data.item())\n",
    "\n",
    "A_plt = model.w2.data.item()\n",
    "b_plt = model.b2.data.item()"
   ]
  },
  {
   "cell_type": "code",
   "execution_count": 102,
   "metadata": {},
   "outputs": [
    {
     "data": {
      "image/png": "[encoded data removed]",
      "text/plain": [
       "<Figure size 640x480 with 1 Axes>"
      ]
     },
     "metadata": {},
     "output_type": "display_data"
    }
   ],
   "source": [
    "# Create a figure and an axes\n",
    "fig, ax = plt.subplots()\n",
    "xs = torch.linspace(-10, 10, 100, requires_grad=True)\n",
    "ys = lin_func(xs,A_plt,b_plt)\n",
    "yps = torch.autograd.grad(ys, xs, grad_outputs=torch.ones_like(xs))[0]\n",
    "\n",
    "with torch.no_grad():\n",
    "    ax.plot(xs, ys, label='$y(x)$')  # No conversion to numpy\n",
    "\n",
    "ax.set_xlabel(\"x\")\n",
    "ax.grid(True)\n",
    "ax.axhline(0, color='k')\n",
    "ax.axvline(0, color='k')\n",
    "ax.set_xlim([-2.5, 5])\n",
    "ax.set_ylim([-2.5, 5])\n",
    "ax.legend()\n",
    "\n",
    "# Plot data points\n",
    "plt.scatter(x_tensor, y_tensor, color='blue', label='Data points')\n",
    "\n",
    "plt.show()  # Display the plot"
   ]
  }
 ],
 "metadata": {
  "kernelspec": {
   "display_name": "myenv",
   "language": "python",
   "name": "python3"
  },
  "language_info": {
   "codemirror_mode": {
    "name": "ipython",
    "version": 3
   },
   "file_extension": ".py",
   "mimetype": "text/x-python",
   "name": "python",
   "nbconvert_exporter": "python",
   "pygments_lexer": "ipython3",
   "version": "3.10.12"
  }
 },
 "nbformat": 4,
 "nbformat_minor": 2
}
