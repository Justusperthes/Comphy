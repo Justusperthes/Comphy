{
 "cells": [
  {
   "cell_type": "markdown",
   "metadata": {},
   "source": [
    "Week 10: Neural Nets Regression"
   ]
  },
  {
   "cell_type": "code",
   "execution_count": null,
   "metadata": {},
   "outputs": [],
   "source": [
    "# # Basic setup for early stopping criteria\n",
    "# patience = 5  # epochs to wait after no improvement\n",
    "# delta = 0.01  # minimum change in the monitored metric\n",
    "# best_val_loss = float(\"inf\")  # best validation loss to compare against\n",
    "# no_improvement_count = 0  # count of epochs with no improvement\n",
    "\n",
    "# class EarlyStopping:\n",
    "#     def __init__(self, patience=5, delta=0, verbose=False):\n",
    "#         self.patience = patience\n",
    "#         self.delta = delta\n",
    "#         self.verbose = verbose\n",
    "#         self.best_loss = None\n",
    "#         self.no_improvement_count = 0\n",
    "#         self.stop_training = False\n",
    "    \n",
    "#     def check_early_stop(self, val_loss):\n",
    "#         if self.best_loss is None or val_loss < self.best_loss - self.delta:\n",
    "#             self.best_loss = val_loss\n",
    "#             self.no_improvement_count = 0\n",
    "#         else:\n",
    "#             self.no_improvement_count += 1\n",
    "#             if self.no_improvement_count >= self.patience:\n",
    "#                 self.stop_training = True\n",
    "#                 if self.verbose:\n",
    "#                     print(\"Stopping early as no improvement has been observed.\")\n",
    "\n",
    "# # Initialize early stopping\n",
    "# early_stopping = EarlyStopping(patience=patience, delta=delta, verbose=True)\n",
    "\n"
   ]
  },
  {
   "cell_type": "code",
   "execution_count": null,
   "metadata": {},
   "outputs": [],
   "source": [
    "\n",
    "# import matplotlib.pyplot as plt\n",
    "# import numpy as np\n",
    "\n",
    "# import torch\n",
    "# import torch.nn as nn\n",
    "# import torch.optim as optim\n",
    "\n",
    "# # Define the model with specified layer dimensions\n",
    "# class TransformationModel(nn.Module):\n",
    "#     def __init__(self):\n",
    "#         super(TransformationModel, self).__init__()\n",
    "        \n",
    "#         # Initial translation vector (to center rotation)\n",
    "#         self.initial_shift = nn.Parameter(torch.tensor([0.0, 0.0], dtype=torch.float32))\n",
    "        \n",
    "#         # Rotation and transformation layers with specified dimensions\n",
    "#         self.rotation_matrix1 = nn.Linear(2, 8, bias=False)  # (2, 8) transformation\n",
    "#         self.final_shift1 = nn.Parameter(torch.zeros(8, dtype=torch.float32))  # (8,) shift vector\n",
    "\n",
    "#         self.rotation_matrix2 = nn.Linear(8, 8, bias=False)  # (8, 8) transformation\n",
    "#         self.final_shift2 = nn.Parameter(torch.zeros(8, dtype=torch.float32))  # (8,) shift vector\n",
    "\n",
    "#         self.rotation_matrix3 = nn.Linear(8, 2, bias=False)  # (8, 2) transformation\n",
    "#         self.final_shift3 = nn.Parameter(torch.zeros(2, dtype=torch.float32))  # (2,) shift vector\n",
    "\n",
    "#     def forward(self, x):\n",
    "#         # Apply initial shift to move rotation center\n",
    "#         x_shifted = x + self.initial_shift\n",
    "        \n",
    "#         # First transformation layer\n",
    "#         x_rotated1 = self.rotation_matrix1(x_shifted)\n",
    "#         x_transformed1 = x_rotated1 + self.final_shift1  # (8,)\n",
    "\n",
    "#         # Second transformation layer\n",
    "#         x_rotated2 = self.rotation_matrix2(x_transformed1)\n",
    "#         x_transformed2 = x_rotated2 + self.final_shift2  # (8,)\n",
    "\n",
    "#         # Third transformation layer\n",
    "#         x_rotated3 = self.rotation_matrix3(x_transformed2)\n",
    "#         x_transformed_final = x_rotated3 + self.final_shift3  # (2,)\n",
    "\n",
    "#         return x_transformed_final\n",
    "\n",
    "# # Define the input and output points\n",
    "# input_points = torch.tensor([[2.5, 1.0],\n",
    "#                              [3.0, 1.0],\n",
    "#                              [3.5, 1.0],\n",
    "#                              [2.5, 1.2],\n",
    "#                              [3.0, 1.2],\n",
    "#                              [3.5, 1.7]], dtype=torch.float32)\n",
    "\n",
    "# output_points = torch.tensor([[2.433, 1.25],\n",
    "#                               [2.866, 1.50],\n",
    "#                               [3.299, 1.75],\n",
    "#                               [2.333, 1.4232],\n",
    "#                               [2.766, 1.6732],\n",
    "#                               [2.949, 2.3562]], dtype=torch.float32)\n",
    "\n",
    "# # Instantiate the model, loss function, and optimizer\n",
    "# model = TransformationModel()\n",
    "# loss_fn = nn.MSELoss()\n",
    "# optimizer = optim.SGD(model.parameters(), lr=0.01)\n",
    "\n",
    "# # # Training loop\n",
    "# # num_epochs = 10000\n",
    "# # for epoch in range(num_epochs):\n",
    "# #     # Forward pass\n",
    "# #     y_pred = model(input_points)\n",
    "    \n",
    "# #     # Compute loss\n",
    "# #     loss = loss_fn(y_pred, output_points)\n",
    "    \n",
    "# #     # Backward pass and optimization\n",
    "# #     optimizer.zero_grad()\n",
    "# #     loss.backward()\n",
    "# #     optimizer.step()\n",
    "    \n",
    "# #     # Print loss every 1000 epochs\n",
    "# #     if epoch % 1000 == 0:\n",
    "# #         print(f'Epoch {epoch}, Loss: {loss.item()}')\n",
    "\n",
    "# num_epochs = 100\n",
    "\n",
    "# for epoch in range(num_epochs):\n",
    "#     train_loss = 0.0\n",
    "#     val_loss = 0.0\n",
    "\n",
    "#     # Training phase\n",
    "#     model.train()\n",
    "#     for data, target in train_loader:\n",
    "#         optimizer.zero_grad()\n",
    "#         output = model(data)\n",
    "#         loss = criterion(output, target)\n",
    "#         loss.backward()\n",
    "#         optimizer.step()\n",
    "#         train_loss += loss.item()\n",
    "    \n",
    "#     # Validation phase\n",
    "#     model.eval()\n",
    "#     with torch.no_grad():\n",
    "#         for data, target in val_loader:\n",
    "#             output = model(data)\n",
    "#             loss = criterion(output, target)\n",
    "#             val_loss += loss.item()\n",
    "    \n",
    "#     # Average validation loss\n",
    "#     val_loss /= len(val_loader)\n",
    "\n",
    "#     # Check early stopping condition\n",
    "#     early_stopping.check_early_stop(val_loss)\n",
    "    \n",
    "#     if early_stopping.stop_training:\n",
    "#         print(f\"Early stopping at epoch {epoch}\")\n",
    "#         break\n",
    "\n",
    "# # Print the learned parameters\n",
    "# print(\"Learned initial shift:\", model.initial_shift.data)\n",
    "# print(\"Learned rotation matrix1:\", model.rotation_matrix1.weight.data)\n",
    "# print(\"Learned final shift1:\", model.final_shift1.data)\n",
    "# print(\"Learned rotation matrix2:\", model.rotation_matrix2.weight.data)\n",
    "# print(\"Learned final shift2:\", model.final_shift2.data)\n",
    "# print(\"Learned rotation matrix3:\", model.rotation_matrix3.weight.data)\n",
    "# print(\"Learned final shift3:\", model.final_shift3.data)\n"
   ]
  },
  {
   "cell_type": "code",
   "execution_count": null,
   "metadata": {},
   "outputs": [],
   "source": [
    "# # Apply multiple successive transformations and store each result\n",
    "# num_iterations = 5  # Number of successive transformations to visualize\n",
    "# colors = plt.cm.viridis(np.linspace(0, 1, num_iterations))  # Generate a color gradient\n",
    "\n",
    "# # Convert input points to numpy array for initial plotting\n",
    "# input_points_np = input_points.numpy()\n",
    "# input_x, input_y = input_points_np[:, 0], input_points_np[:, 1]\n",
    "\n",
    "# # Plot the original input points\n",
    "# plt.scatter(input_x, input_y, color='blue', label='Original Points')\n",
    "\n",
    "# # Apply the transformation iteratively and plot each set\n",
    "# current_points = input_points.clone()  # Start with the original input points\n",
    "\n",
    "# for i in range(num_iterations):\n",
    "#     # Apply the trained model to get the next transformation\n",
    "#     transformed_points = model(current_points).detach().numpy()\n",
    "    \n",
    "#     # Separate x and y coordinates for transformed points\n",
    "#     transformed_x, transformed_y = transformed_points[:, 0], transformed_points[:, 1]\n",
    "    \n",
    "#     # Plot the transformed points with a new color each iteration\n",
    "#     plt.scatter(transformed_x, transformed_y, color=colors[i])\n",
    "    \n",
    "#     # Set the current points to the latest transformed points for the next iteration\n",
    "#     current_points = torch.tensor(transformed_points, dtype=torch.float32)\n",
    "\n",
    "# # Labeling the plot\n",
    "# plt.xlabel('X Coordinate')\n",
    "# plt.ylabel('Y Coordinate')\n",
    "# plt.title('Successive Transformations of Points')\n",
    "# plt.xlim(-2, 4)\n",
    "# plt.ylim(-2, 4)\n",
    "# plt.legend()\n",
    "# plt.grid(True)\n",
    "\n",
    "# # Show the plot\n",
    "# plt.show()"
   ]
  },
  {
   "cell_type": "markdown",
   "metadata": {},
   "source": [
    "5.1 Noisy Lennard-Jones-Gauss data"
   ]
  },
  {
   "cell_type": "code",
   "execution_count": 117,
   "metadata": {},
   "outputs": [],
   "source": [
    "# create some noise LJ data\n",
    "\n",
    "def LJ_pot(r,eps=1,sigma=1):\n",
    "    V = 4*eps*((sigma/r)**12-(sigma/r)**6)\n",
    "    return V\n"
   ]
  },
  {
   "cell_type": "code",
   "execution_count": 118,
   "metadata": {},
   "outputs": [
    {
     "name": "stdout",
     "output_type": "stream",
     "text": [
      "-0.3203365942785745\n"
     ]
    },
    {
     "data": {
      "image/png": "[encoded data removed]",
      "text/plain": [
       "<Figure size 640x480 with 1 Axes>"
      ]
     },
     "metadata": {},
     "output_type": "display_data"
    }
   ],
   "source": [
    "import numpy as np\n",
    "import matplotlib.pyplot as plt\n",
    "\n",
    "print(LJ_pot(1.5))\n",
    "xs = np.linspace(0.2,4,100)\n",
    "ys = LJ_pot(xs,1,1)\n",
    "\n",
    "# Plot the original input points\n",
    "plt.plot(xs, ys, color='blue')\n",
    "\n",
    "# Labeling the plot\n",
    "plt.xlabel('X Coordinate')\n",
    "plt.ylabel('Y Coordinate')\n",
    "plt.title('LJ')\n",
    "plt.xlim(0,4)\n",
    "plt.ylim(-2,10)\n",
    "plt.grid(True)\n",
    "\n",
    "# Show the plot\n",
    "plt.show()"
   ]
  },
  {
   "cell_type": "code",
   "execution_count": 222,
   "metadata": {},
   "outputs": [
    {
     "name": "stdout",
     "output_type": "stream",
     "text": [
      "-0.0002559836160000001\n",
      "-0.0002374242671732341\n"
     ]
    }
   ],
   "source": [
    "import random\n",
    "\n",
    "# print(random_number)\n",
    "\n",
    "def noisy_LJ(r,randomness):\n",
    "    random_number = random.uniform(-randomness,randomness)\n",
    "    result = LJ_pot(r)\n",
    "    return result + random_number\n",
    "\n",
    "print(LJ_pot(5))\n",
    "print(noisy_LJ(5,0.0001))  # Output: 12\n",
    "\n"
   ]
  },
  {
   "cell_type": "code",
   "execution_count": 225,
   "metadata": {},
   "outputs": [],
   "source": [
    "import numpy as np\n",
    "import matplotlib.pyplot as plt\n",
    "\n",
    "def noisy_LJ(xs, noise_level):\n",
    "    # Calculate LJ potential values\n",
    "    ys = LJ_pot(xs)\n",
    "    # Add different random noise to each value\n",
    "    noise = noise_level * np.random.uniform(-1, 1, size=xs.shape)\n",
    "    return ys + noise"
   ]
  },
  {
   "cell_type": "code",
   "execution_count": 227,
   "metadata": {},
   "outputs": [
    {
     "data": {
      "image/png": "[encoded data removed]",
      "text/plain": [
       "<Figure size 640x480 with 1 Axes>"
      ]
     },
     "metadata": {},
     "output_type": "display_data"
    }
   ],
   "source": [
    "\n",
    "\n",
    "xs = np.linspace(0.2, 4, 30)\n",
    "ys = noisy_LJ(xs, 0.2)\n",
    "\n",
    "# Plot the original input points\n",
    "plt.scatter(xs, ys, color='blue')\n",
    "\n",
    "# Labeling the plot\n",
    "plt.xlabel('X Coordinate')\n",
    "plt.ylabel('Y Coordinate')\n",
    "plt.title('LJ')\n",
    "plt.xlim(0, 4)\n",
    "plt.ylim(-2, 2)\n",
    "plt.grid(True)\n",
    "\n",
    "# Show the plot\n",
    "plt.show()\n"
   ]
  },
  {
   "cell_type": "code",
   "execution_count": null,
   "metadata": {},
   "outputs": [],
   "source": []
  }
 ],
 "metadata": {
  "kernelspec": {
   "display_name": "Python (myenv)",
   "language": "python",
   "name": "myenv"
  },
  "language_info": {
   "codemirror_mode": {
    "name": "ipython",
    "version": 3
   },
   "file_extension": ".py",
   "mimetype": "text/x-python",
   "name": "python",
   "nbconvert_exporter": "python",
   "pygments_lexer": "ipython3",
   "version": "3.12.3"
  }
 },
 "nbformat": 4,
 "nbformat_minor": 2
}
